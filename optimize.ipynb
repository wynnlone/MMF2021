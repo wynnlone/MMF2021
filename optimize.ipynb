{
 "cells": [
  {
   "cell_type": "code",
   "execution_count": 3,
   "metadata": {},
   "outputs": [],
   "source": [
    "import numpy as np\n",
    "import pandas as pd\n",
    "from scipy.optimize import minimize\n",
    "import random\n",
    "#import gurobipy as gp\n",
    "#from gurobipy import GRB\n"
   ]
  },
  {
   "cell_type": "code",
   "execution_count": 4,
   "metadata": {},
   "outputs": [
    {
     "name": "stdout",
     "output_type": "stream",
     "text": [
      "['XSP.TO', 'XIU.TO', 'XIN.TO', 'XBB.TO', 'XGB.TO', 'XRB.TO', 'XRE.TO']\n"
     ]
    }
   ],
   "source": [
    "df_exR = pd.read_csv(\"exR_file.csv\")\n",
    "df_exR\n",
    "ticker = list(df_exR)[1:] #the first is the time stamp\n",
    "print(ticker)"
   ]
  },
  {
   "cell_type": "code",
   "execution_count": 5,
   "metadata": {
    "scrolled": true
   },
   "outputs": [
    {
     "data": {
      "text/plain": [
       "'\\nprint(df1)\\nprint(df2)\\nasset_2_index\\nasset_3_index\\nasset_4_index\\n#np.array(ticker)[asset_4_index]\\ntype(asset_2_index)\\n'"
      ]
     },
     "execution_count": 5,
     "metadata": {},
     "output_type": "execute_result"
    }
   ],
   "source": [
    "#need to transfer to main code\n",
    "df1= df_exR.iloc[:,1:2]\n",
    "df2 = df_exR.iloc[:,2:3]\n",
    "df3 = df_exR.iloc[:,3:6]\n",
    "df4 = df_exR.iloc[:,6:8]\n",
    "asset_1_index = [0]\n",
    "asset_2_index = list(range(1,2))\n",
    "asset_3_index = list(range(2,5))\n",
    "asset_4_index = list(range(5,7))\n",
    "'''\n",
    "print(df1)\n",
    "print(df2)\n",
    "asset_2_index\n",
    "asset_3_index\n",
    "asset_4_index\n",
    "#np.array(ticker)[asset_4_index]\n",
    "type(asset_2_index)\n",
    "'''\n",
    "\n",
    "\n",
    "total_df = pd.concat([df1,df2,df3,df4], axis=1)# merge the 4 asset class\n",
    "#print(total_df)\n",
    "#print(total_df.shape)\n",
    "\n",
    "#print(total_df.shape[1]) # get the amount of columns of the dataframe\n",
    "numAsset = total_df.shape[1]\n",
    "print(\"number of asset is \", numAsset)\n",
    "Q = total_df.cov()"
   ]
  },
  {
   "cell_type": "code",
   "execution_count": 8,
   "metadata": {},
   "outputs": [],
   "source": [
    "def formDf(x,ticker):\n",
    "    x = pd.DataFrame(x).T\n",
    "    x.columns = ticker\n",
    "    return x"
   ]
  },
  {
   "cell_type": "code",
   "execution_count": 27,
   "metadata": {},
   "outputs": [
    {
     "data": {
      "text/html": [
       "<div>\n",
       "<style scoped>\n",
       "    .dataframe tbody tr th:only-of-type {\n",
       "        vertical-align: middle;\n",
       "    }\n",
       "\n",
       "    .dataframe tbody tr th {\n",
       "        vertical-align: top;\n",
       "    }\n",
       "\n",
       "    .dataframe thead th {\n",
       "        text-align: right;\n",
       "    }\n",
       "</style>\n",
       "<table border=\"1\" class=\"dataframe\">\n",
       "  <thead>\n",
       "    <tr style=\"text-align: right;\">\n",
       "      <th></th>\n",
       "      <th>XSP.TO</th>\n",
       "      <th>XIU.TO</th>\n",
       "      <th>XIN.TO</th>\n",
       "      <th>XBB.TO</th>\n",
       "      <th>XGB.TO</th>\n",
       "      <th>XRB.TO</th>\n",
       "      <th>XRE.TO</th>\n",
       "    </tr>\n",
       "  </thead>\n",
       "  <tbody>\n",
       "    <tr>\n",
       "      <th>0</th>\n",
       "      <td>0.142857</td>\n",
       "      <td>0.142857</td>\n",
       "      <td>0.142857</td>\n",
       "      <td>0.142857</td>\n",
       "      <td>0.142857</td>\n",
       "      <td>0.142857</td>\n",
       "      <td>0.142857</td>\n",
       "    </tr>\n",
       "  </tbody>\n",
       "</table>\n",
       "</div>"
      ],
      "text/plain": [
       "     XSP.TO    XIU.TO    XIN.TO    XBB.TO    XGB.TO    XRB.TO    XRE.TO\n",
       "0  0.142857  0.142857  0.142857  0.142857  0.142857  0.142857  0.142857"
      ]
     },
     "execution_count": 27,
     "metadata": {},
     "output_type": "execute_result"
    }
   ],
   "source": [
    "# Equal Weight strategy for Block\n",
    "def EW(numAsset):\n",
    "    weight_eq = pd.DataFrame(np.repeat(1/numAsset, numAsset))\n",
    "    x_ew = formDf(weight_eq,ticker) # result for equal weight\n",
    "    return x_ew\n",
    "\n",
    "EW(numAsset)"
   ]
  },
  {
   "cell_type": "code",
   "execution_count": 34,
   "metadata": {},
   "outputs": [],
   "source": [
    "# Mean Variance optimization Block\n",
    "\n",
    "def MVO(numAsset):\n",
    "    \n",
    "    def meanVarianceOpt(numAsset):\n",
    "        def objective(weight):#weight\n",
    "            weight = np.array(weight)\n",
    "            return weight.dot(Q).dot(weight.T)\n",
    "\n",
    "        #constraints\n",
    "        cons = ({'type':\"eq\",'fun':lambda x: np.sum(x)-1},\n",
    "               )\n",
    "\n",
    "        #long only\n",
    "        bounds = tuple((0,1) for x in range(numAsset))\n",
    "\n",
    "        #initialize the weights with an even split, equal weights\n",
    "        guess = pd.DataFrame(np.repeat(1/numAsset, numAsset))\n",
    "        optimized_result = minimize(objective, guess, method = \"SLSQP\", bounds  = bounds, constraints= cons)\n",
    "\n",
    "        return optimized_result\n",
    "    x_mvo = meanVarianceOpt(numAsset).x\n",
    "    x_mvo = formDf(x_mvo,ticker)\n",
    "    return x_mvo\n",
    "\n",
    "weight_mvo = MVO(numAsset) #temperarily set for current data set\n"
   ]
  },
  {
   "cell_type": "code",
   "execution_count": 37,
   "metadata": {},
   "outputs": [],
   "source": [
    "# Mean Variance optimization - All weather Block\n",
    "\n",
    "def MVO_AW(numAsset):\n",
    "    \n",
    "    def meanVarianceOpt_allWeather(numAsset):\n",
    "        def objective(weight):#weight\n",
    "            weight = np.array(weight)\n",
    "            return weight.dot(Q).dot(weight.T)\n",
    "\n",
    "        #constraints\n",
    "        cons = ({'type':\"eq\",'fun':lambda x: np.sum(x)-1},\n",
    "                {\"type\":\"ineq\",'fun': lambda x: np.sum(np.array(x)[asset_1_index])-0.15 },\n",
    "                {\"type\":\"ineq\",'fun': lambda x: np.sum(np.array(x)[asset_2_index])-0.15 },\n",
    "                {\"type\":\"ineq\",'fun': lambda x: np.sum(np.array(x)[asset_3_index])-0.15 },\n",
    "                {\"type\":\"ineq\",'fun': lambda x: np.sum(np.array(x)[asset_4_index])-0.15 },\n",
    "                {\"type\":\"ineq\",'fun': lambda x: 0.3-np.sum(np.array(x)[asset_1_index]) },\n",
    "                {\"type\":\"ineq\",'fun': lambda x: 0.3-np.sum(np.array(x)[asset_2_index]) },\n",
    "                {\"type\":\"ineq\",'fun': lambda x: 0.3-np.sum(np.array(x)[asset_3_index]) },\n",
    "                {\"type\":\"ineq\",'fun': lambda x: 0.3-np.sum(np.array(x)[asset_4_index]) },\n",
    "               )\n",
    "\n",
    "        #long only\n",
    "        bounds = tuple((0,0.3) for x in range(numAsset))\n",
    "\n",
    "        #initialize the weights with an even split, equal weights\n",
    "        guess = pd.DataFrame(np.repeat(1/numAsset, numAsset))\n",
    "        optimized_result = minimize(objective, guess, method = \"SLSQP\", bounds  = bounds, constraints= cons)\n",
    "\n",
    "        return optimized_result\n",
    "    x_mvo_allWeather = meanVarianceOpt_allWeather(numAsset).x\n",
    "    x_mvo_allWeather = formDf(x_mvo_allWeather, ticker)\n",
    "    return x_mvo_allWeather\n",
    "\n",
    "weight_mvo_aw = MVO_AW(numAsset)"
   ]
  },
  {
   "cell_type": "code",
   "execution_count": 39,
   "metadata": {},
   "outputs": [],
   "source": [
    "# Naive Risk Parity Block\n",
    "def naive_rp(Q,numAsset):\n",
    "    \n",
    "    sigma_sq = np.diagonal(Q)# variance for all assets (sigma^2 )\n",
    "    #1/sigma^2\n",
    "    inv_sigma_sq = pd.DataFrame(sigma_sq).rdiv(1).T \n",
    "\n",
    "    # 1/sigma\n",
    "    inv_sigma = inv_sigma_sq.apply(np.sqrt)\n",
    "    inv_sigma= np.array(inv_sigma.iloc[0,:].tolist())\n",
    "    \n",
    "    x_naive_rp = []\n",
    "    denom = np.sum(inv_sigma) #sum of 1/sigma at the denominator\n",
    "\n",
    "    for i in range(numAsset):\n",
    "        x_naive_rp.append((inv_sigma[i]/denom))\n",
    "\n",
    "    x_naive_rp = formDf(x_naive_rp, ticker)\n",
    "    return x_naive_rp\n",
    "\n",
    "weight_naive_rp = naive_rp(Q , numAsset)"
   ]
  },
  {
   "cell_type": "code",
   "execution_count": 40,
   "metadata": {},
   "outputs": [
    {
     "data": {
      "text/html": [
       "<div>\n",
       "<style scoped>\n",
       "    .dataframe tbody tr th:only-of-type {\n",
       "        vertical-align: middle;\n",
       "    }\n",
       "\n",
       "    .dataframe tbody tr th {\n",
       "        vertical-align: top;\n",
       "    }\n",
       "\n",
       "    .dataframe thead th {\n",
       "        text-align: right;\n",
       "    }\n",
       "</style>\n",
       "<table border=\"1\" class=\"dataframe\">\n",
       "  <thead>\n",
       "    <tr style=\"text-align: right;\">\n",
       "      <th></th>\n",
       "      <th>XSP.TO</th>\n",
       "      <th>XIU.TO</th>\n",
       "      <th>XIN.TO</th>\n",
       "      <th>XBB.TO</th>\n",
       "      <th>XGB.TO</th>\n",
       "      <th>XRB.TO</th>\n",
       "      <th>XRE.TO</th>\n",
       "    </tr>\n",
       "  </thead>\n",
       "  <tbody>\n",
       "    <tr>\n",
       "      <th>0</th>\n",
       "      <td>0.075728</td>\n",
       "      <td>0.087991</td>\n",
       "      <td>0.078344</td>\n",
       "      <td>0.272712</td>\n",
       "      <td>0.275387</td>\n",
       "      <td>0.135146</td>\n",
       "      <td>0.074693</td>\n",
       "    </tr>\n",
       "  </tbody>\n",
       "</table>\n",
       "</div>"
      ],
      "text/plain": [
       "     XSP.TO    XIU.TO    XIN.TO    XBB.TO    XGB.TO    XRB.TO    XRE.TO\n",
       "0  0.075728  0.087991  0.078344  0.272712  0.275387  0.135146  0.074693"
      ]
     },
     "execution_count": 40,
     "metadata": {},
     "output_type": "execute_result"
    }
   ],
   "source": [
    "weight_naive_rp"
   ]
  },
  {
   "cell_type": "code",
   "execution_count": 44,
   "metadata": {},
   "outputs": [
    {
     "data": {
      "text/plain": [
       "22.168500174797572"
      ]
     },
     "execution_count": 44,
     "metadata": {},
     "output_type": "execute_result"
    }
   ],
   "source": [
    "# Risk Parity\n",
    "\n",
    "\n",
    "#define initial portfolio (equal weighed)\n",
    "#kappa = 5 #initial arbitrary constant\n",
    "#y0 = np.transpose(np.mat((np.repeat(1/numAsset,numAsset))))\n"
   ]
  },
  {
   "cell_type": "code",
   "execution_count": null,
   "metadata": {},
   "outputs": [],
   "source": [
    "#create a new model\n",
    "#model_1 = gp.Model(\"matrix1\")\n",
    "\n",
    "#create variables\n",
    "#y = model_1.addMVar(shape = 7, vtype=GRB.CONTINUOUS,lb = 0,name =\"y\" )\n",
    "\n",
    "#set objective\n",
    "#obj = "
   ]
  }
 ],
 "metadata": {
  "kernelspec": {
   "display_name": "Python 3",
   "language": "python",
   "name": "python3"
  },
  "language_info": {
   "codemirror_mode": {
    "name": "ipython",
    "version": 3
   },
   "file_extension": ".py",
   "mimetype": "text/x-python",
   "name": "python",
   "nbconvert_exporter": "python",
   "pygments_lexer": "ipython3",
   "version": "3.8.8"
  }
 },
 "nbformat": 4,
 "nbformat_minor": 4
}
