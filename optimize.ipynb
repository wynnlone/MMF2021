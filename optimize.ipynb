{
 "cells": [
  {
   "cell_type": "code",
   "execution_count": 1,
   "metadata": {},
   "outputs": [],
   "source": [
    "import numpy as np\n",
    "import pandas as pd\n",
    "from scipy.optimize import minimize\n",
    "import random\n",
    "import gurobipy as gp\n",
    "from gurobipy import GRB\n"
   ]
  },
  {
   "cell_type": "code",
   "execution_count": 2,
   "metadata": {
    "scrolled": true
   },
   "outputs": [],
   "source": [
    "#numAsset = 3\n",
    "#df1 = pd.DataFrame([0.1,0.2,0.3])\n",
    "#Q = np.mat(np.random.normal(0,1,(3,3)))\n",
    "#Q = Q*np.transpose(Q)/1000+0.5*np.identity(numAsset)/1000\n",
    "#print(Q)\n",
    "\n",
    "#Q = df.cov()"
   ]
  },
  {
   "cell_type": "code",
   "execution_count": 3,
   "metadata": {},
   "outputs": [
    {
     "name": "stdout",
     "output_type": "stream",
     "text": [
      "['XSP.TO', 'XIU.TO', 'XIN.TO', 'XBB.TO', 'XGB.TO', 'XRB.TO', 'XRE.TO']\n"
     ]
    }
   ],
   "source": [
    "df_exR = pd.read_csv(\"exR_file.csv\")\n",
    "df_exR\n",
    "ticker = list(df_exR)[1:] #the first is the time stamp\n",
    "print(ticker)"
   ]
  },
  {
   "cell_type": "code",
   "execution_count": 4,
   "metadata": {
    "scrolled": true
   },
   "outputs": [
    {
     "name": "stdout",
     "output_type": "stream",
     "text": [
      "       XSP.TO    XIU.TO    XIN.TO\n",
      "0         NaN       NaN       NaN\n",
      "1   -0.037262 -0.035934 -0.059806\n",
      "2    0.002846 -0.014420  0.007787\n",
      "3   -0.002867  0.018924 -0.001692\n",
      "4    0.017057  0.018122  0.024081\n",
      "..        ...       ...       ...\n",
      "178  0.027248  0.036481  0.027873\n",
      "179  0.044082  0.052970  0.050659\n",
      "180  0.050627  0.023047  0.011021\n",
      "181  0.004213  0.030843  0.022821\n",
      "182  0.021196  0.033390  0.001299\n",
      "\n",
      "[183 rows x 3 columns]\n",
      "       XBB.TO    XGB.TO    XRB.TO    XRE.TO\n",
      "0         NaN       NaN       NaN       NaN\n",
      "1   -0.000070       NaN -0.013703 -0.002474\n",
      "2   -0.020828       NaN -0.021193 -0.009137\n",
      "3    0.028914       NaN  0.040237  0.054973\n",
      "4    0.014012       NaN  0.015380  0.025324\n",
      "..        ...       ...       ...       ...\n",
      "178 -0.027362 -0.031432 -0.042828  0.038720\n",
      "179 -0.012869 -0.014480 -0.008564  0.047724\n",
      "180  0.000274  0.001319 -0.020003  0.046757\n",
      "181  0.005995  0.005625  0.034407  0.026312\n",
      "182  0.010679  0.011981  0.009638  0.033735\n",
      "\n",
      "[183 rows x 4 columns]\n"
     ]
    }
   ],
   "source": [
    "df1= df_exR.iloc[:,1:4]\n",
    "df2 = df_exR.iloc[:,4:8]\n",
    "asset_1_index = [0,1,2]\n",
    "asset_2_index = [3,4,5,6]\n",
    "print(df1)\n",
    "print(df2)\n"
   ]
  },
  {
   "cell_type": "code",
   "execution_count": 5,
   "metadata": {},
   "outputs": [
    {
     "name": "stdout",
     "output_type": "stream",
     "text": [
      "       XSP.TO    XIU.TO    XIN.TO    XBB.TO    XGB.TO    XRB.TO    XRE.TO\n",
      "0         NaN       NaN       NaN       NaN       NaN       NaN       NaN\n",
      "1   -0.037262 -0.035934 -0.059806 -0.000070       NaN -0.013703 -0.002474\n",
      "2    0.002846 -0.014420  0.007787 -0.020828       NaN -0.021193 -0.009137\n",
      "3   -0.002867  0.018924 -0.001692  0.028914       NaN  0.040237  0.054973\n",
      "4    0.017057  0.018122  0.024081  0.014012       NaN  0.015380  0.025324\n",
      "..        ...       ...       ...       ...       ...       ...       ...\n",
      "178  0.027248  0.036481  0.027873 -0.027362 -0.031432 -0.042828  0.038720\n",
      "179  0.044082  0.052970  0.050659 -0.012869 -0.014480 -0.008564  0.047724\n",
      "180  0.050627  0.023047  0.011021  0.000274  0.001319 -0.020003  0.046757\n",
      "181  0.004213  0.030843  0.022821  0.005995  0.005625  0.034407  0.026312\n",
      "182  0.021196  0.033390  0.001299  0.010679  0.011981  0.009638  0.033735\n",
      "\n",
      "[183 rows x 7 columns]\n",
      "(183, 7)\n",
      "7\n",
      "number of asset is  7\n"
     ]
    },
    {
     "data": {
      "text/plain": [
       "(7, 7)"
      ]
     },
     "execution_count": 5,
     "metadata": {},
     "output_type": "execute_result"
    }
   ],
   "source": [
    "\n",
    "total_df = pd.concat([df1,df2], axis=1)# merge the 4 asset class\n",
    "print(total_df)\n",
    "print(total_df.shape)\n",
    "\n",
    "print(total_df.shape[1]) # get the amount of columns of the dataframe\n",
    "numAsset = total_df.shape[1]\n",
    "print(\"number of asset is \", numAsset)\n",
    "Q = total_df.cov()\n",
    "Q.shape"
   ]
  },
  {
   "cell_type": "code",
   "execution_count": 6,
   "metadata": {},
   "outputs": [],
   "source": [
    "def formDf(x,ticker):\n",
    "    x = pd.DataFrame(x).T\n",
    "    x.columns = ticker\n",
    "    return x"
   ]
  },
  {
   "cell_type": "code",
   "execution_count": 7,
   "metadata": {},
   "outputs": [
    {
     "name": "stdout",
     "output_type": "stream",
     "text": [
      "          0\n",
      "0  0.142857\n",
      "1  0.142857\n",
      "2  0.142857\n",
      "3  0.142857\n",
      "4  0.142857\n",
      "5  0.142857\n",
      "6  0.142857\n",
      "     XSP.TO    XIU.TO    XIN.TO    XBB.TO    XGB.TO    XRB.TO    XRE.TO\n",
      "0  0.142857  0.142857  0.142857  0.142857  0.142857  0.142857  0.142857\n"
     ]
    }
   ],
   "source": [
    "#Equal Weight strategy\n",
    "weight_eq = pd.DataFrame(np.repeat(1/numAsset, numAsset))\n",
    "print(weight_eq)\n",
    "\n",
    "x_ew = formDf(weight_eq,ticker) # result for equal weight\n",
    "print(x_ew)"
   ]
  },
  {
   "cell_type": "code",
   "execution_count": null,
   "metadata": {},
   "outputs": [],
   "source": [
    "# Risk Parity\n",
    "\n",
    "\n",
    "#define initial portfolio (equal weighed)\n",
    "#kappa = 5 #initial arbitrary constant\n",
    "#y0 = np.transpose(np.mat((np.repeat(1/numAsset,numAsset))))\n"
   ]
  },
  {
   "cell_type": "code",
   "execution_count": null,
   "metadata": {},
   "outputs": [],
   "source": [
    "#create a new model\n",
    "#model_1 = gp.Model(\"matrix1\")\n",
    "\n",
    "#create variables\n",
    "#y = model_1.addMVar(shape = 7, vtype=GRB.CONTINUOUS,lb = 0,name =\"y\" )\n",
    "\n",
    "#set objective\n",
    "#obj = "
   ]
  },
  {
   "cell_type": "code",
   "execution_count": 8,
   "metadata": {},
   "outputs": [],
   "source": [
    "# Mean Variance optimization\n",
    "def meanVarianceOpt(numAsset):\n",
    "    def objective(weight):#weight\n",
    "        weight = np.array(weight)\n",
    "        return weight.dot(Q).dot(weight.T)\n",
    "\n",
    "    #constraints\n",
    "    cons = ({'type':\"eq\",'fun':lambda x: np.sum(x)-1},\n",
    "           )\n",
    "    \n",
    "    #long only\n",
    "    bounds = tuple((0,1) for x in range(numAsset))\n",
    "    \n",
    "    #initialize the weights with an even split, equal weights\n",
    "    guess = pd.DataFrame(np.repeat(1/numAsset, numAsset))\n",
    "    optimized_result = minimize(objective, guess, method = \"SLSQP\", bounds  = bounds, constraints= cons)\n",
    "    \n",
    "    return optimized_result"
   ]
  },
  {
   "cell_type": "code",
   "execution_count": 9,
   "metadata": {},
   "outputs": [],
   "source": [
    "x_mvo = meanVarianceOpt(numAsset).x\n",
    "x_mvo = formDf(x_mvo,ticker)"
   ]
  },
  {
   "cell_type": "code",
   "execution_count": 10,
   "metadata": {},
   "outputs": [
    {
     "data": {
      "text/html": [
       "<div>\n",
       "<style scoped>\n",
       "    .dataframe tbody tr th:only-of-type {\n",
       "        vertical-align: middle;\n",
       "    }\n",
       "\n",
       "    .dataframe tbody tr th {\n",
       "        vertical-align: top;\n",
       "    }\n",
       "\n",
       "    .dataframe thead th {\n",
       "        text-align: right;\n",
       "    }\n",
       "</style>\n",
       "<table border=\"1\" class=\"dataframe\">\n",
       "  <thead>\n",
       "    <tr style=\"text-align: right;\">\n",
       "      <th></th>\n",
       "      <th>XSP.TO</th>\n",
       "      <th>XIU.TO</th>\n",
       "      <th>XIN.TO</th>\n",
       "      <th>XBB.TO</th>\n",
       "      <th>XGB.TO</th>\n",
       "      <th>XRB.TO</th>\n",
       "      <th>XRE.TO</th>\n",
       "    </tr>\n",
       "  </thead>\n",
       "  <tbody>\n",
       "    <tr>\n",
       "      <th>0</th>\n",
       "      <td>2.081668e-17</td>\n",
       "      <td>0.052737</td>\n",
       "      <td>0.017391</td>\n",
       "      <td>0.327339</td>\n",
       "      <td>0.346904</td>\n",
       "      <td>0.243243</td>\n",
       "      <td>0.012386</td>\n",
       "    </tr>\n",
       "  </tbody>\n",
       "</table>\n",
       "</div>"
      ],
      "text/plain": [
       "         XSP.TO    XIU.TO    XIN.TO    XBB.TO    XGB.TO    XRB.TO    XRE.TO\n",
       "0  2.081668e-17  0.052737  0.017391  0.327339  0.346904  0.243243  0.012386"
      ]
     },
     "execution_count": 10,
     "metadata": {},
     "output_type": "execute_result"
    }
   ],
   "source": [
    "x_mvo"
   ]
  },
  {
   "cell_type": "code",
   "execution_count": 11,
   "metadata": {},
   "outputs": [
    {
     "data": {
      "text/html": [
       "<div>\n",
       "<style scoped>\n",
       "    .dataframe tbody tr th:only-of-type {\n",
       "        vertical-align: middle;\n",
       "    }\n",
       "\n",
       "    .dataframe tbody tr th {\n",
       "        vertical-align: top;\n",
       "    }\n",
       "\n",
       "    .dataframe thead th {\n",
       "        text-align: right;\n",
       "    }\n",
       "</style>\n",
       "<table border=\"1\" class=\"dataframe\">\n",
       "  <thead>\n",
       "    <tr style=\"text-align: right;\">\n",
       "      <th></th>\n",
       "      <th>XSP.TO</th>\n",
       "      <th>XIU.TO</th>\n",
       "      <th>XIN.TO</th>\n",
       "      <th>XBB.TO</th>\n",
       "      <th>XGB.TO</th>\n",
       "      <th>XRB.TO</th>\n",
       "      <th>XRE.TO</th>\n",
       "    </tr>\n",
       "  </thead>\n",
       "  <tbody>\n",
       "    <tr>\n",
       "      <th>0</th>\n",
       "      <td>0.142857</td>\n",
       "      <td>0.142857</td>\n",
       "      <td>0.142857</td>\n",
       "      <td>0.142857</td>\n",
       "      <td>0.142857</td>\n",
       "      <td>0.142857</td>\n",
       "      <td>0.142857</td>\n",
       "    </tr>\n",
       "  </tbody>\n",
       "</table>\n",
       "</div>"
      ],
      "text/plain": [
       "     XSP.TO    XIU.TO    XIN.TO    XBB.TO    XGB.TO    XRB.TO    XRE.TO\n",
       "0  0.142857  0.142857  0.142857  0.142857  0.142857  0.142857  0.142857"
      ]
     },
     "execution_count": 11,
     "metadata": {},
     "output_type": "execute_result"
    }
   ],
   "source": [
    "x_ew"
   ]
  },
  {
   "cell_type": "code",
   "execution_count": null,
   "metadata": {},
   "outputs": [],
   "source": []
  },
  {
   "cell_type": "code",
   "execution_count": null,
   "metadata": {},
   "outputs": [],
   "source": [
    "\n",
    "    "
   ]
  }
 ],
 "metadata": {
  "kernelspec": {
   "display_name": "Python 3",
   "language": "python",
   "name": "python3"
  },
  "language_info": {
   "codemirror_mode": {
    "name": "ipython",
    "version": 3
   },
   "file_extension": ".py",
   "mimetype": "text/x-python",
   "name": "python",
   "nbconvert_exporter": "python",
   "pygments_lexer": "ipython3",
   "version": "3.8.5"
  }
 },
 "nbformat": 4,
 "nbformat_minor": 4
}
