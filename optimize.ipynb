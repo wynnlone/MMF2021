{
 "cells": [
  {
   "cell_type": "code",
   "execution_count": 1,
   "metadata": {},
   "outputs": [],
   "source": [
    "import numpy as np\n",
    "import pandas as pd\n",
    "from scipy.optimize import minimize\n",
    "#import random\n",
    "#import gurobipy as gp\n",
    "#from gurobipy import GRB\n"
   ]
  },
  {
   "cell_type": "code",
   "execution_count": 5,
   "metadata": {},
   "outputs": [
    {
     "name": "stdout",
     "output_type": "stream",
     "text": [
      "    formatted_date    XSP.TO    XIU.TO    XIN.TO    XBB.TO    XGB.TO  \\\n",
      "0       2006-04-01       NaN       NaN       NaN       NaN       NaN   \n",
      "1       2006-05-01 -0.037262 -0.035934 -0.059806 -0.000070       NaN   \n",
      "2       2006-06-01  0.002846 -0.014420  0.007787 -0.020828       NaN   \n",
      "3       2006-07-01 -0.002867  0.018924 -0.001692  0.028914       NaN   \n",
      "4       2006-08-01  0.017057  0.018122  0.024081  0.014012       NaN   \n",
      "..             ...       ...       ...       ...       ...       ...   \n",
      "178     2021-02-01  0.027248  0.036481  0.027873 -0.027362 -0.031432   \n",
      "179     2021-03-01  0.044082  0.052970  0.050659 -0.012869 -0.014480   \n",
      "180     2021-04-01  0.050627  0.023047  0.011021  0.000274  0.001319   \n",
      "181     2021-05-01  0.004213  0.030843  0.022821  0.005995  0.005625   \n",
      "182     2021-06-01  0.021196  0.033390  0.001299  0.010679  0.011981   \n",
      "\n",
      "       XRB.TO    XRE.TO  \n",
      "0         NaN       NaN  \n",
      "1   -0.013703 -0.002474  \n",
      "2   -0.021193 -0.009137  \n",
      "3    0.040237  0.054973  \n",
      "4    0.015380  0.025324  \n",
      "..        ...       ...  \n",
      "178 -0.042828  0.038720  \n",
      "179 -0.008564  0.047724  \n",
      "180 -0.020003  0.046757  \n",
      "181  0.034407  0.026312  \n",
      "182  0.009638  0.033735  \n",
      "\n",
      "[183 rows x 8 columns]\n",
      "['XSP.TO', 'XIU.TO', 'XIN.TO', 'XBB.TO', 'XGB.TO', 'XRB.TO', 'XRE.TO']\n"
     ]
    }
   ],
   "source": [
    "'''\n",
    "df_exR = pd.read_csv(\"exR_file.csv\")\n",
    "df_exR\n",
    "print(df_exR)\n",
    "ticker = list(df_exR)[1:] #the first is the time stamp\n",
    "print(ticker)\n",
    "'''"
   ]
  },
  {
   "cell_type": "code",
   "execution_count": 2,
   "metadata": {
    "scrolled": true
   },
   "outputs": [
    {
     "name": "stdout",
     "output_type": "stream",
     "text": [
      "number of asset is  7\n"
     ]
    }
   ],
   "source": [
    "\n",
    "def dataSlicing(df1,df2,df3,df4):\n",
    "\n",
    "    \n",
    "    #need to transfer to main code\n",
    "    '''\n",
    "    df1= df_exR.iloc[:,1:2]\n",
    "    df2 = df_exR.iloc[:,2:3]\n",
    "    df3 = df_exR.iloc[:,3:6]\n",
    "    df4 = df_exR.iloc[:,6:8]\n",
    "    '''\n",
    "    asset_1_num = df1.shape[1]\n",
    "    asset_2_num = df2.shape[1]\n",
    "    asset_3_num = df3.shape[1]\n",
    "    asset_4_num = df4.shape[1]\n",
    "    \n",
    "    asset_1_index = list(range(0 , asset_1_num))\n",
    "    asset_2_index = list(range(asset_1_num , asset_1_num+asset_2_num))\n",
    "    asset_3_index = list(range(asset_1_num+asset_2_num , asset_1_num+asset_2_num+asset_3_num))\n",
    "    asset_4_index = list(range(asset_1_num+asset_2_num+asset_3_num ,asset_1_num+asset_2_num+asset_3_num+asset_4_num))\n",
    "    \n",
    "    '''\n",
    "    asset_1_index = [0]\n",
    "    asset_2_index = list(range(1,2))\n",
    "    asset_3_index = list(range(2,5))\n",
    "    asset_4_index = list(range(5,7))\n",
    "    '''\n",
    "    \n",
    "    total_df = pd.concat([df1,df2,df3,df4], axis=1)# merge the 4 asset class\n",
    "    ticker = list(total_df)        #[1:]#the first is the time stamp\n",
    "    #print(total_df.shape[1]) # get the amount of columns of the dataframe\n",
    "    \n",
    "    return total_df,ticker\n",
    "\n",
    "total_df = dataSlicing(df1,df2,df3,df4)"
   ]
  },
  {
   "cell_type": "code",
   "execution_count": 12,
   "metadata": {},
   "outputs": [],
   "source": [
    "def formDf(x,ticker):\n",
    "    x = pd.DataFrame(x).T\n",
    "    x.columns = ticker\n",
    "    return x"
   ]
  },
  {
   "cell_type": "code",
   "execution_count": null,
   "metadata": {},
   "outputs": [],
   "source": [
    "# Equal Weight strategy for Block\n",
    "\n",
    "def EW(df1,df2,df3,df4):\n",
    "    \n",
    "    total_df,ticker = dataSlicing(df1,df2,df3,df4)\n",
    "    Q = total_df.cov()\n",
    "    numAsset = total_df.shape[1]\n",
    "    \n",
    "    weight_eq = pd.DataFrame(np.repeat(1/numAsset, numAsset))\n",
    "    x_ew = formDf(weight_eq,ticker) # result for equal weight\n",
    "    return x_ew\n",
    "\n",
    "EW(df1,df2,df3,df4)"
   ]
  },
  {
   "cell_type": "code",
   "execution_count": 15,
   "metadata": {},
   "outputs": [
    {
     "ename": "NameError",
     "evalue": "name 'df1' is not defined",
     "output_type": "error",
     "traceback": [
      "\u001b[1;31m---------------------------------------------------------------------------\u001b[0m",
      "\u001b[1;31mNameError\u001b[0m                                 Traceback (most recent call last)",
      "\u001b[1;32m<ipython-input-15-6db4f3cd5240>\u001b[0m in \u001b[0;36m<module>\u001b[1;34m\u001b[0m\n\u001b[0;32m     27\u001b[0m     \u001b[1;32mreturn\u001b[0m \u001b[0mx_mvo\u001b[0m\u001b[1;33m\u001b[0m\u001b[1;33m\u001b[0m\u001b[0m\n\u001b[0;32m     28\u001b[0m \u001b[1;33m\u001b[0m\u001b[0m\n\u001b[1;32m---> 29\u001b[1;33m \u001b[0mweight_mvo\u001b[0m \u001b[1;33m=\u001b[0m \u001b[0mMVO\u001b[0m\u001b[1;33m(\u001b[0m\u001b[0mdf1\u001b[0m\u001b[1;33m,\u001b[0m\u001b[0mdf2\u001b[0m\u001b[1;33m,\u001b[0m\u001b[0mdf3\u001b[0m\u001b[1;33m,\u001b[0m\u001b[0mdf4\u001b[0m\u001b[1;33m)\u001b[0m \u001b[1;31m#temperarily set for current data set\u001b[0m\u001b[1;33m\u001b[0m\u001b[1;33m\u001b[0m\u001b[0m\n\u001b[0m",
      "\u001b[1;31mNameError\u001b[0m: name 'df1' is not defined"
     ]
    }
   ],
   "source": [
    "# Mean Variance optimization Block\n",
    "def meanVarianceOpt(numAsset, Q):\n",
    "    def objective(weight):#weight\n",
    "        weight = np.array(weight)\n",
    "        return weight.dot(Q).dot(weight.T)\n",
    "\n",
    "    #constraints\n",
    "    cons = ({'type':\"eq\",'fun':lambda x: np.sum(x)-1},\n",
    "           )\n",
    "\n",
    "    #long only\n",
    "    bounds = tuple((0,1) for x in range(numAsset))\n",
    "\n",
    "    #initialize the weights with an even split, equal weights\n",
    "    guess = pd.DataFrame(np.repeat(1/numAsset, numAsset))\n",
    "    optimized_result = minimize(objective, guess, method = \"SLSQP\", bounds  = bounds, constraints= cons)\n",
    "\n",
    "    return optimized_result\n",
    "\n",
    "def MVO(df1,df2,df3,df4):\n",
    "    total_df, ticker = dataSlicing(df1,df2,df3,df4)\n",
    "    Q = total_df.cov()\n",
    "    numAsset = total_df.shape[1]\n",
    "\n",
    "    x_mvo = meanVarianceOpt(numAsset,Q).x\n",
    "    x_mvo = formDf(x_mvo,ticker)\n",
    "    return x_mvo\n",
    "\n",
    "weight_mvo = MVO(df1,df2,df3,df4) #temperarily set for current data set\n"
   ]
  },
  {
   "cell_type": "code",
   "execution_count": null,
   "metadata": {},
   "outputs": [],
   "source": [
    "# Mean Variance optimization - All weather Block\n",
    "\n",
    "def meanVarianceOpt_allWeather(numAsset,Q, asset_1_index, asset_2_index, asset_3_index, asset_4_index):\n",
    "    def objective(weight):#weight\n",
    "        weight = np.array(weight)\n",
    "        return weight.dot(Q).dot(weight.T)\n",
    "\n",
    "    #constraints\n",
    "    cons = ({'type':\"eq\",'fun':lambda x: np.sum(x)-1},\n",
    "            {\"type\":\"ineq\",'fun': lambda x: np.sum(np.array(x)[asset_1_index])-0.15 },\n",
    "            {\"type\":\"ineq\",'fun': lambda x: np.sum(np.array(x)[asset_2_index])-0.15 },\n",
    "            {\"type\":\"ineq\",'fun': lambda x: np.sum(np.array(x)[asset_3_index])-0.15 },\n",
    "            {\"type\":\"ineq\",'fun': lambda x: np.sum(np.array(x)[asset_4_index])-0.15 },\n",
    "            {\"type\":\"ineq\",'fun': lambda x: 0.3-np.sum(np.array(x)[asset_1_index]) },\n",
    "            {\"type\":\"ineq\",'fun': lambda x: 0.3-np.sum(np.array(x)[asset_2_index]) },\n",
    "            {\"type\":\"ineq\",'fun': lambda x: 0.3-np.sum(np.array(x)[asset_3_index]) },\n",
    "            {\"type\":\"ineq\",'fun': lambda x: 0.3-np.sum(np.array(x)[asset_4_index]) },\n",
    "           )\n",
    "\n",
    "    #long only\n",
    "    bounds = tuple((0,0.3) for x in range(numAsset))\n",
    "\n",
    "    #initialize the weights with an even split, equal weights\n",
    "    guess = pd.DataFrame(np.repeat(1/numAsset, numAsset))\n",
    "    optimized_result = minimize(objective, guess, method = \"SLSQP\", bounds  = bounds, constraints= cons)\n",
    "\n",
    "    return optimized_result\n",
    "\n",
    "def MVO_AW(df1,df2,df3,df4):\n",
    "    \n",
    "    asset_1_num = df1.shape[1]\n",
    "    asset_2_num = df2.shape[1]\n",
    "    asset_3_num = df3.shape[1]\n",
    "    asset_4_num = df4.shape[1]\n",
    "    \n",
    "    asset_1_index = list(range(0 , asset_1_num))\n",
    "    asset_2_index = list(range(asset_1_num , asset_1_num+asset_2_num))\n",
    "    asset_3_index = list(range(asset_1_num+asset_2_num , asset_1_num+asset_2_num+asset_3_num))\n",
    "    asset_4_index = list(range(asset_1_num+asset_2_num+asset_3_num ,asset_1_num+asset_2_num+asset_3_num+asset_4_num))\n",
    "    \n",
    "    total_df, ticker = dataSlicing(df1,df2,df3,df4)\n",
    "    Q = total_df.cov()\n",
    "    numAsset = total_df.shape[1]\n",
    "    \n",
    "    x_mvo_allWeather = meanVarianceOpt_allWeather(numAsset,Q, asset_1_index,asset_2_index,asset_3_index,asset_4_index).x\n",
    "    x_mvo_allWeather = formDf(x_mvo_allWeather, ticker)\n",
    "    return x_mvo_allWeather\n",
    "\n",
    "weight_mvo_aw = MVO_AW(df1,df2,df3,df4)"
   ]
  },
  {
   "cell_type": "code",
   "execution_count": 51,
   "metadata": {},
   "outputs": [
    {
     "ename": "NameError",
     "evalue": "name 'numAsset' is not defined",
     "output_type": "error",
     "traceback": [
      "\u001b[1;31m---------------------------------------------------------------------------\u001b[0m",
      "\u001b[1;31mNameError\u001b[0m                                 Traceback (most recent call last)",
      "\u001b[1;32m<ipython-input-51-f4fb98ca5a2b>\u001b[0m in \u001b[0;36m<module>\u001b[1;34m\u001b[0m\n\u001b[0;32m      8\u001b[0m     \u001b[1;32mreturn\u001b[0m \u001b[0my\u001b[0m\u001b[1;33m\u001b[0m\u001b[1;33m\u001b[0m\u001b[0m\n\u001b[0;32m      9\u001b[0m \u001b[1;33m\u001b[0m\u001b[0m\n\u001b[1;32m---> 10\u001b[1;33m \u001b[0my\u001b[0m \u001b[1;33m=\u001b[0m \u001b[0mrp_opt\u001b[0m\u001b[1;33m(\u001b[0m\u001b[0mnumAsset\u001b[0m\u001b[1;33m)\u001b[0m\u001b[1;33m\u001b[0m\u001b[1;33m\u001b[0m\u001b[0m\n\u001b[0m\u001b[0;32m     11\u001b[0m \u001b[0mprint\u001b[0m\u001b[1;33m(\u001b[0m\u001b[0my\u001b[0m\u001b[1;33m)\u001b[0m\u001b[1;33m\u001b[0m\u001b[1;33m\u001b[0m\u001b[0m\n\u001b[0;32m     12\u001b[0m \u001b[0mprint\u001b[0m\u001b[1;33m(\u001b[0m\u001b[0mtype\u001b[0m\u001b[1;33m(\u001b[0m\u001b[0my\u001b[0m\u001b[1;33m)\u001b[0m\u001b[1;33m)\u001b[0m\u001b[1;33m\u001b[0m\u001b[1;33m\u001b[0m\u001b[0m\n",
      "\u001b[1;31mNameError\u001b[0m: name 'numAsset' is not defined"
     ]
    }
   ],
   "source": [
    "# Risk Parity Block\n",
    "\n",
    "def rp_obj(y):    #objective function for Risk parity\n",
    "    kappa = 5\n",
    "    return np.matmul(Q,y)-kappa*np.reciprocal(y) #using the gradient of f(y) = 0\n",
    "\n",
    "def rp_opt(df1,df2,df3,df4):\n",
    "    total_df, ticker = dataSlicing(df1,df2,df3,df4)\n",
    "    Q = total_df.cov()\n",
    "    numAsset = total_df.shape[1]\n",
    "    \n",
    "    guess = pd.DataFrame(np.repeat(1/numAsset, numAsset))\n",
    "    y = scipy.optimize.fsolve(rp_obj,guess)\n",
    "    \n",
    "    x_rp=[]\n",
    "    y_sum = np.sum(y)\n",
    "    for i in range(len(y)):\n",
    "        x_rp.append(y[i]/y_sum)\n",
    "    x_rp = formDf(x_rp, ticker)\n",
    "    \n",
    "    return x_rp\n",
    "\n",
    "weight_rp = rp_opt(df1,df2,df3,df4)"
   ]
  },
  {
   "cell_type": "code",
   "execution_count": null,
   "metadata": {},
   "outputs": [],
   "source": [
    "# Naive Risk Parity Block\n",
    "\n",
    "def naive_rp(df1,df2,df3,df4):\n",
    "    total_df, ticker = dataSlicing(df1,df2,df3,df4)\n",
    "    Q = total_df.cov()\n",
    "    numAsset = total_df.shape[1]\n",
    "    \n",
    "    sigma_sq = np.diagonal(Q)# variance for all assets (sigma^2 )\n",
    "    #1/sigma^2\n",
    "    inv_sigma_sq = pd.DataFrame(sigma_sq).rdiv(1).T \n",
    "\n",
    "    # 1/sigma\n",
    "    inv_sigma = inv_sigma_sq.apply(np.sqrt)\n",
    "    inv_sigma= np.array(inv_sigma.iloc[0,:].tolist())\n",
    "    \n",
    "    x_naive_rp = []\n",
    "    denom = np.sum(inv_sigma) #sum of 1/sigma at the denominator\n",
    "\n",
    "    for i in range(numAsset):\n",
    "        x_naive_rp.append((inv_sigma[i]/denom))\n",
    "\n",
    "    x_naive_rp = formDf(x_naive_rp, ticker)\n",
    "    return x_naive_rp\n",
    "\n",
    "weight_naive_rp = naive_rp(df1,df2,df3,df4)"
   ]
  }
 ],
 "metadata": {
  "kernelspec": {
   "display_name": "Python 3",
   "language": "python",
   "name": "python3"
  },
  "language_info": {
   "codemirror_mode": {
    "name": "ipython",
    "version": 3
   },
   "file_extension": ".py",
   "mimetype": "text/x-python",
   "name": "python",
   "nbconvert_exporter": "python",
   "pygments_lexer": "ipython3",
   "version": "3.8.8"
  }
 },
 "nbformat": 4,
 "nbformat_minor": 4
}
