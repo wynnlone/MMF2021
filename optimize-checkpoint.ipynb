{
 "cells": [
  {
   "cell_type": "code",
   "execution_count": 21,
   "metadata": {},
   "outputs": [],
   "source": [
    "import numpy as np\n",
    "import pandas as pd\n",
    "from scipy.optimize import minimize\n",
    "import random"
   ]
  },
  {
   "cell_type": "code",
   "execution_count": 42,
   "metadata": {},
   "outputs": [
    {
     "name": "stdout",
     "output_type": "stream",
     "text": [
      "[[ 0.0026776  -0.00035268  0.00011394 -0.00185285 -0.00132695]\n",
      " [-0.00035268  0.00630636  0.00035069  0.0012118  -0.00171937]\n",
      " [ 0.00011394  0.00035069  0.00522705  0.00300351 -0.0023877 ]\n",
      " [-0.00185285  0.0012118   0.00300351  0.00432199 -0.00080162]\n",
      " [-0.00132695 -0.00171937 -0.0023877  -0.00080162  0.01071673]]\n"
     ]
    }
   ],
   "source": [
    "numStock = 5\n",
    "stockReturn = pd.DataFrame([0.1,0.2,0.3,0.4])\n",
    "Q = np.mat(np.random.normal(0,1,(5,5)))\n",
    "Q = Q*np.transpose(Q)/1000+0.5*np.identity(numStock)/1000\n",
    "print(Q)"
   ]
  },
  {
   "cell_type": "code",
   "execution_count": 9,
   "metadata": {},
   "outputs": [],
   "source": [
    "port_weight_eq = pd.DataFrame(np.repeat(1/numStock, numStock))"
   ]
  },
  {
   "cell_type": "code",
   "execution_count": 25,
   "metadata": {},
   "outputs": [],
   "source": [
    "# Equal Weight Portforlio\n",
    "stockReturn['Portfolio_EW'] = stockReturn.iloc[:,0:numStock].mul(port_weight_eq,axis = 1).sum(axis=1)\n",
    "print(stockReturn)"
   ]
  },
  {
   "cell_type": "code",
   "execution_count": 61,
   "metadata": {},
   "outputs": [],
   "source": [
    "# Risk Parity\n",
    "\n",
    "\n",
    "#define initial portfolio (equal weighed)\n",
    "kappa = 5 #initial arbitrary constant\n",
    "y0 = np.transpose(np.mat((np.repeat(1/numStock,numStock))))\n"
   ]
  },
  {
   "cell_type": "code",
   "execution_count": 6,
   "metadata": {},
   "outputs": [
    {
     "name": "stdout",
     "output_type": "stream",
     "text": [
      "5\n"
     ]
    }
   ],
   "source": [
    "#solver\n",
    "func = lambda x : 0.5 * np.matmul(np.transpose(y)* Cov * y) - kappa * sum(np.log(y)) \n",
    "cons = ({'type':'eq', 'func':lambda })"
   ]
  },
  {
   "cell_type": "code",
   "execution_count": 63,
   "metadata": {},
   "outputs": [
    {
     "name": "stdout",
     "output_type": "stream",
     "text": [
      "(5, 1)\n"
     ]
    }
   ],
   "source": [
    "print(np.shape(y0))"
   ]
  },
  {
   "cell_type": "code",
   "execution_count": 65,
   "metadata": {},
   "outputs": [],
   "source": [
    "def objective(x):\n",
    "    return 0.5 * np.transpose(x)* Q * x - kappa * sum(np.log(x)) \n",
    "def constr1(x):\n",
    "    return x\n"
   ]
  },
  {
   "cell_type": "code",
   "execution_count": 64,
   "metadata": {},
   "outputs": [
    {
     "data": {
      "text/plain": [
       "matrix([[0.00043455]])"
      ]
     },
     "execution_count": 64,
     "metadata": {},
     "output_type": "execute_result"
    }
   ],
   "source": [
    "0.5 * np.transpose(y0)* Q * y0 "
   ]
  },
  {
   "cell_type": "code",
   "execution_count": 66,
   "metadata": {},
   "outputs": [
    {
     "data": {
      "text/plain": [
       "matrix([[40.23638236]])"
      ]
     },
     "execution_count": 66,
     "metadata": {},
     "output_type": "execute_result"
    }
   ],
   "source": [
    "objective(y0)"
   ]
  }
 ],
 "metadata": {
  "kernelspec": {
   "display_name": "Python 3",
   "language": "python",
   "name": "python3"
  },
  "language_info": {
   "codemirror_mode": {
    "name": "ipython",
    "version": 3
   },
   "file_extension": ".py",
   "mimetype": "text/x-python",
   "name": "python",
   "nbconvert_exporter": "python",
   "pygments_lexer": "ipython3",
   "version": "3.8.5"
  }
 },
 "nbformat": 4,
 "nbformat_minor": 4
}
