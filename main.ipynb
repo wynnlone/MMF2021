{
 "cells": [
  {
   "cell_type": "code",
   "execution_count": 1,
   "metadata": {},
   "outputs": [],
   "source": [
    "#pip install yahoofinancials # if package is not installed, please uncomment to install\n",
    "#pip install numpy_financial\n",
    "\n",
    "import pandas as pd\n",
    "import numpy as np\n",
    "import scipy.stats as st\n",
    "import datetime\n",
    "from dateutil.relativedelta import *\n",
    "import matplotlib.pylab as plt\n",
    "from yahoofinancials import YahooFinancials\n",
    "import numpy_financial as npf\n"
   ]
  },
  {
   "cell_type": "code",
   "execution_count": null,
   "metadata": {},
   "outputs": [],
   "source": [
    "report_date = '2021-06-01'"
   ]
  },
  {
   "cell_type": "code",
   "execution_count": 2,
   "metadata": {},
   "outputs": [],
   "source": [
    "# select asset, time period, frequancy \n",
    "\n",
    "# run this for USD Portfolio\n",
    "assets = ['SPY','QQQ','VWO','EWC','EFA','VGK','IOO','SHY','IEF','TIP','IYR','DBC']\n",
    "inqu = ['^IRX','CADUSD=X']+assets\n",
    "yahoo_financials = YahooFinancials(inqu)\n",
    "data = yahoo_financials.get_historical_price_data(start_date='2006-04-01', \n",
    "                                                  end_date='2021-06-02', \n",
    "                                                  time_interval='monthly')"
   ]
  },
  {
   "cell_type": "code",
   "execution_count": 3,
   "metadata": {},
   "outputs": [],
   "source": [
    "# run this for CAD Portfolio\n",
    "\n",
    "assets = ['XSP.TO','XIU.TO','XIN.TO','XBB.TO','XGB.TO','XRB.TO','XRE.TO']\n",
    "inqu = ['^IRX','CADUSD=X']+assets\n",
    "yahoo_financials = YahooFinancials(inqu)\n",
    "data = yahoo_financials.get_historical_price_data(start_date='2006-04-01', \n",
    "                                                  end_date='2021-06-02', \n",
    "                                                  time_interval='monthly')\n",
    "                                                  "
   ]
  },
  {
   "cell_type": "code",
   "execution_count": 4,
   "metadata": {},
   "outputs": [],
   "source": [
    "# format risk free rate\n",
    "df_rf = pd.DataFrame(data['^IRX']['prices'])\n",
    "df_rf = df_rf.drop('date', axis=1).set_index('formatted_date')\n",
    "df_rf['Mth_rf'] = df_rf['adjclose']/100/12\n",
    "df_rf = df_rf.fillna(method='ffill')\n",
    "\n",
    "# format exchange rate\n",
    "'''\n",
    "# somehow the date messed up, we will read the excel file instead\n",
    "df_ex = pd.DataFrame(data['CADUSD=X']['prices'])\n",
    "df_ex = df_ex.set_index('formatted_date')\n",
    "df_ex = df_ex.fillna(method='ffill')\n",
    "df_ex['CAD/USD'] = df_ex['adjclose'] \n",
    "df_ex.drop(columns= ['date','high','low','open','close','volume','adjclose'], inplace=True)\n",
    "'''\n",
    "\n",
    "# somehow the date messed up, we will read the csv file instead\n",
    "df_ex = pd.read_csv('CADUSD=X.csv')\n",
    "df_ex = df_ex.set_index('Date')\n",
    "df_ex = df_ex.fillna(method='ffill')\n",
    "df_ex['CAD/USD'] = df_ex['Adj Close'] \n",
    "df_ex.drop(columns= ['Open','High','Low','Close','Adj Close','Volume'], inplace=True)\n",
    "\n",
    "# format asset returns\n",
    "df=pd.DataFrame(index=df_rf.index)\n",
    "\n",
    "for asset in assets:\n",
    "    df[asset+'_P']=pd.DataFrame(data[asset]['prices'])[['adjclose','formatted_date']].set_index('formatted_date')\n",
    "    df[asset+'_R']=df[asset+'_P'].pct_change(1)"
   ]
  },
  {
   "cell_type": "code",
   "execution_count": 5,
   "metadata": {},
   "outputs": [
    {
     "data": {
      "text/html": [
       "<div>\n",
       "<style scoped>\n",
       "    .dataframe tbody tr th:only-of-type {\n",
       "        vertical-align: middle;\n",
       "    }\n",
       "\n",
       "    .dataframe tbody tr th {\n",
       "        vertical-align: top;\n",
       "    }\n",
       "\n",
       "    .dataframe thead th {\n",
       "        text-align: right;\n",
       "    }\n",
       "</style>\n",
       "<table border=\"1\" class=\"dataframe\">\n",
       "  <thead>\n",
       "    <tr style=\"text-align: right;\">\n",
       "      <th></th>\n",
       "      <th>XSP.TO_P</th>\n",
       "      <th>XSP.TO_R</th>\n",
       "      <th>XIU.TO_P</th>\n",
       "      <th>XIU.TO_R</th>\n",
       "      <th>XIN.TO_P</th>\n",
       "      <th>XIN.TO_R</th>\n",
       "      <th>XBB.TO_P</th>\n",
       "      <th>XBB.TO_R</th>\n",
       "      <th>XGB.TO_P</th>\n",
       "      <th>XGB.TO_R</th>\n",
       "      <th>XRB.TO_P</th>\n",
       "      <th>XRB.TO_R</th>\n",
       "      <th>XRE.TO_P</th>\n",
       "      <th>XRE.TO_R</th>\n",
       "    </tr>\n",
       "    <tr>\n",
       "      <th>formatted_date</th>\n",
       "      <th></th>\n",
       "      <th></th>\n",
       "      <th></th>\n",
       "      <th></th>\n",
       "      <th></th>\n",
       "      <th></th>\n",
       "      <th></th>\n",
       "      <th></th>\n",
       "      <th></th>\n",
       "      <th></th>\n",
       "      <th></th>\n",
       "      <th></th>\n",
       "      <th></th>\n",
       "      <th></th>\n",
       "    </tr>\n",
       "  </thead>\n",
       "  <tbody>\n",
       "    <tr>\n",
       "      <th>2006-04-01</th>\n",
       "      <td>13.145290</td>\n",
       "      <td>NaN</td>\n",
       "      <td>11.521857</td>\n",
       "      <td>NaN</td>\n",
       "      <td>17.995522</td>\n",
       "      <td>NaN</td>\n",
       "      <td>16.917009</td>\n",
       "      <td>NaN</td>\n",
       "      <td>NaN</td>\n",
       "      <td>NaN</td>\n",
       "      <td>14.437650</td>\n",
       "      <td>NaN</td>\n",
       "      <td>6.142775</td>\n",
       "      <td>NaN</td>\n",
       "    </tr>\n",
       "    <tr>\n",
       "      <th>2006-05-01</th>\n",
       "      <td>12.707119</td>\n",
       "      <td>-0.033333</td>\n",
       "      <td>11.153104</td>\n",
       "      <td>-0.032005</td>\n",
       "      <td>16.989994</td>\n",
       "      <td>-0.055877</td>\n",
       "      <td>16.982298</td>\n",
       "      <td>0.003859</td>\n",
       "      <td>NaN</td>\n",
       "      <td>NaN</td>\n",
       "      <td>14.296542</td>\n",
       "      <td>-0.009774</td>\n",
       "      <td>6.151716</td>\n",
       "      <td>0.001456</td>\n",
       "    </tr>\n",
       "    <tr>\n",
       "      <th>2006-06-01</th>\n",
       "      <td>12.794751</td>\n",
       "      <td>0.006896</td>\n",
       "      <td>11.037451</td>\n",
       "      <td>-0.010370</td>\n",
       "      <td>17.191097</td>\n",
       "      <td>0.011837</td>\n",
       "      <td>16.697371</td>\n",
       "      <td>-0.016778</td>\n",
       "      <td>NaN</td>\n",
       "      <td>NaN</td>\n",
       "      <td>14.051461</td>\n",
       "      <td>-0.017143</td>\n",
       "      <td>6.120422</td>\n",
       "      <td>-0.005087</td>\n",
       "    </tr>\n",
       "    <tr>\n",
       "      <th>2006-07-01</th>\n",
       "      <td>12.810687</td>\n",
       "      <td>0.001246</td>\n",
       "      <td>11.291711</td>\n",
       "      <td>0.023036</td>\n",
       "      <td>17.232704</td>\n",
       "      <td>0.002420</td>\n",
       "      <td>17.248827</td>\n",
       "      <td>0.033027</td>\n",
       "      <td>NaN</td>\n",
       "      <td>NaN</td>\n",
       "      <td>14.674636</td>\n",
       "      <td>0.044349</td>\n",
       "      <td>6.482049</td>\n",
       "      <td>0.059085</td>\n",
       "    </tr>\n",
       "    <tr>\n",
       "      <th>2006-08-01</th>\n",
       "      <td>13.081561</td>\n",
       "      <td>0.021144</td>\n",
       "      <td>11.542490</td>\n",
       "      <td>0.022209</td>\n",
       "      <td>17.718132</td>\n",
       "      <td>0.028169</td>\n",
       "      <td>17.561024</td>\n",
       "      <td>0.018100</td>\n",
       "      <td>NaN</td>\n",
       "      <td>NaN</td>\n",
       "      <td>14.960310</td>\n",
       "      <td>0.019467</td>\n",
       "      <td>6.672697</td>\n",
       "      <td>0.029412</td>\n",
       "    </tr>\n",
       "    <tr>\n",
       "      <th>...</th>\n",
       "      <td>...</td>\n",
       "      <td>...</td>\n",
       "      <td>...</td>\n",
       "      <td>...</td>\n",
       "      <td>...</td>\n",
       "      <td>...</td>\n",
       "      <td>...</td>\n",
       "      <td>...</td>\n",
       "      <td>...</td>\n",
       "      <td>...</td>\n",
       "      <td>...</td>\n",
       "      <td>...</td>\n",
       "      <td>...</td>\n",
       "      <td>...</td>\n",
       "    </tr>\n",
       "    <tr>\n",
       "      <th>2021-02-01</th>\n",
       "      <td>40.849056</td>\n",
       "      <td>0.027277</td>\n",
       "      <td>26.603354</td>\n",
       "      <td>0.036510</td>\n",
       "      <td>27.332333</td>\n",
       "      <td>0.027902</td>\n",
       "      <td>31.725668</td>\n",
       "      <td>-0.027332</td>\n",
       "      <td>22.031994</td>\n",
       "      <td>-0.031403</td>\n",
       "      <td>25.542923</td>\n",
       "      <td>-0.042799</td>\n",
       "      <td>16.469028</td>\n",
       "      <td>0.038749</td>\n",
       "    </tr>\n",
       "    <tr>\n",
       "      <th>2021-03-01</th>\n",
       "      <td>42.650196</td>\n",
       "      <td>0.044093</td>\n",
       "      <td>28.012825</td>\n",
       "      <td>0.052981</td>\n",
       "      <td>28.717251</td>\n",
       "      <td>0.050670</td>\n",
       "      <td>31.317741</td>\n",
       "      <td>-0.012858</td>\n",
       "      <td>21.713200</td>\n",
       "      <td>-0.014470</td>\n",
       "      <td>25.324438</td>\n",
       "      <td>-0.008554</td>\n",
       "      <td>17.255177</td>\n",
       "      <td>0.047735</td>\n",
       "    </tr>\n",
       "    <tr>\n",
       "      <th>2021-04-01</th>\n",
       "      <td>44.809574</td>\n",
       "      <td>0.050630</td>\n",
       "      <td>28.658510</td>\n",
       "      <td>0.023050</td>\n",
       "      <td>29.033804</td>\n",
       "      <td>0.011023</td>\n",
       "      <td>31.326403</td>\n",
       "      <td>0.000277</td>\n",
       "      <td>21.741892</td>\n",
       "      <td>0.001321</td>\n",
       "      <td>24.817949</td>\n",
       "      <td>-0.020000</td>\n",
       "      <td>18.062016</td>\n",
       "      <td>0.046759</td>\n",
       "    </tr>\n",
       "    <tr>\n",
       "      <th>2021-05-01</th>\n",
       "      <td>44.998646</td>\n",
       "      <td>0.004219</td>\n",
       "      <td>29.542603</td>\n",
       "      <td>0.030849</td>\n",
       "      <td>29.696587</td>\n",
       "      <td>0.022828</td>\n",
       "      <td>31.514418</td>\n",
       "      <td>0.006002</td>\n",
       "      <td>21.864332</td>\n",
       "      <td>0.005632</td>\n",
       "      <td>25.672029</td>\n",
       "      <td>0.034414</td>\n",
       "      <td>18.537380</td>\n",
       "      <td>0.026318</td>\n",
       "    </tr>\n",
       "    <tr>\n",
       "      <th>2021-06-01</th>\n",
       "      <td>45.953945</td>\n",
       "      <td>0.021230</td>\n",
       "      <td>30.530001</td>\n",
       "      <td>0.033423</td>\n",
       "      <td>29.736155</td>\n",
       "      <td>0.001332</td>\n",
       "      <td>31.852020</td>\n",
       "      <td>0.010713</td>\n",
       "      <td>22.127020</td>\n",
       "      <td>0.012014</td>\n",
       "      <td>25.920309</td>\n",
       "      <td>0.009671</td>\n",
       "      <td>19.163364</td>\n",
       "      <td>0.033769</td>\n",
       "    </tr>\n",
       "  </tbody>\n",
       "</table>\n",
       "<p>183 rows × 14 columns</p>\n",
       "</div>"
      ],
      "text/plain": [
       "                 XSP.TO_P  XSP.TO_R   XIU.TO_P  XIU.TO_R   XIN.TO_P  XIN.TO_R  \\\n",
       "formatted_date                                                                  \n",
       "2006-04-01      13.145290       NaN  11.521857       NaN  17.995522       NaN   \n",
       "2006-05-01      12.707119 -0.033333  11.153104 -0.032005  16.989994 -0.055877   \n",
       "2006-06-01      12.794751  0.006896  11.037451 -0.010370  17.191097  0.011837   \n",
       "2006-07-01      12.810687  0.001246  11.291711  0.023036  17.232704  0.002420   \n",
       "2006-08-01      13.081561  0.021144  11.542490  0.022209  17.718132  0.028169   \n",
       "...                   ...       ...        ...       ...        ...       ...   \n",
       "2021-02-01      40.849056  0.027277  26.603354  0.036510  27.332333  0.027902   \n",
       "2021-03-01      42.650196  0.044093  28.012825  0.052981  28.717251  0.050670   \n",
       "2021-04-01      44.809574  0.050630  28.658510  0.023050  29.033804  0.011023   \n",
       "2021-05-01      44.998646  0.004219  29.542603  0.030849  29.696587  0.022828   \n",
       "2021-06-01      45.953945  0.021230  30.530001  0.033423  29.736155  0.001332   \n",
       "\n",
       "                 XBB.TO_P  XBB.TO_R   XGB.TO_P  XGB.TO_R   XRB.TO_P  XRB.TO_R  \\\n",
       "formatted_date                                                                  \n",
       "2006-04-01      16.917009       NaN        NaN       NaN  14.437650       NaN   \n",
       "2006-05-01      16.982298  0.003859        NaN       NaN  14.296542 -0.009774   \n",
       "2006-06-01      16.697371 -0.016778        NaN       NaN  14.051461 -0.017143   \n",
       "2006-07-01      17.248827  0.033027        NaN       NaN  14.674636  0.044349   \n",
       "2006-08-01      17.561024  0.018100        NaN       NaN  14.960310  0.019467   \n",
       "...                   ...       ...        ...       ...        ...       ...   \n",
       "2021-02-01      31.725668 -0.027332  22.031994 -0.031403  25.542923 -0.042799   \n",
       "2021-03-01      31.317741 -0.012858  21.713200 -0.014470  25.324438 -0.008554   \n",
       "2021-04-01      31.326403  0.000277  21.741892  0.001321  24.817949 -0.020000   \n",
       "2021-05-01      31.514418  0.006002  21.864332  0.005632  25.672029  0.034414   \n",
       "2021-06-01      31.852020  0.010713  22.127020  0.012014  25.920309  0.009671   \n",
       "\n",
       "                 XRE.TO_P  XRE.TO_R  \n",
       "formatted_date                       \n",
       "2006-04-01       6.142775       NaN  \n",
       "2006-05-01       6.151716  0.001456  \n",
       "2006-06-01       6.120422 -0.005087  \n",
       "2006-07-01       6.482049  0.059085  \n",
       "2006-08-01       6.672697  0.029412  \n",
       "...                   ...       ...  \n",
       "2021-02-01      16.469028  0.038749  \n",
       "2021-03-01      17.255177  0.047735  \n",
       "2021-04-01      18.062016  0.046759  \n",
       "2021-05-01      18.537380  0.026318  \n",
       "2021-06-01      19.163364  0.033769  \n",
       "\n",
       "[183 rows x 14 columns]"
      ]
     },
     "execution_count": 5,
     "metadata": {},
     "output_type": "execute_result"
    }
   ],
   "source": [
    "df"
   ]
  },
  {
   "cell_type": "code",
   "execution_count": null,
   "metadata": {},
   "outputs": [],
   "source": []
  },
  {
   "cell_type": "code",
   "execution_count": null,
   "metadata": {},
   "outputs": [],
   "source": []
  },
  {
   "cell_type": "code",
   "execution_count": 6,
   "metadata": {},
   "outputs": [],
   "source": [
    "# equal weighted method\n",
    "def EW(df):\n",
    "    weights = [1/7,1/7,1/7,1/7,1/7,1/7,1/7]\n",
    "    return weights"
   ]
  },
  {
   "cell_type": "code",
   "execution_count": null,
   "metadata": {},
   "outputs": [],
   "source": []
  },
  {
   "cell_type": "code",
   "execution_count": 70,
   "metadata": {},
   "outputs": [],
   "source": [
    "# calibration period back function \n",
    "def back_mth(str_date, month_back):\n",
    "    t=datetime.datetime.strptime(str_date, \"%Y-%m-%d\").date()\n",
    "    t=t+ relativedelta(months=-month_back)\n",
    "    t=t.strftime('%Y-%m-%d')\n",
    "    return t"
   ]
  },
  {
   "cell_type": "code",
   "execution_count": 8,
   "metadata": {},
   "outputs": [],
   "source": [
    "# construct inception and rebalance date\n",
    "\n",
    "# validation period\n",
    "incept_date_v = '2011-04-01'\n",
    "rebal_dates_v = pd.date_range(start=incept_date_v, periods=21, freq='2QS')[1:] #['2011-10-01', '2012-04-01', ... ,'2021-04-01']\n",
    "\n",
    "# testing period\n",
    "incept_date_t = '2016-04-01'\n",
    "rebal_dates_t = pd.date_range(start=incept_date_t, periods=11, freq='2QS')[1:] #['2016-10-01', '2017-04-01', ... ,'2021-04-01']"
   ]
  },
  {
   "cell_type": "code",
   "execution_count": 9,
   "metadata": {},
   "outputs": [],
   "source": [
    "# managing data\n",
    "\n",
    "# Portfolio price and return\n",
    "df['Port_P'] = np.NaN\n",
    "df['Port_R'] = np.NaN\n",
    "\n",
    "\n",
    "# dataframes for asset's return, excess return, price, weight, and unit of shares \n",
    "df_R = pd.DataFrame(index=df.index)\n",
    "df_exR = pd.DataFrame(index=df.index)\n",
    "df_P = pd.DataFrame(index=df.index)\n",
    "df_W = pd.DataFrame(index=df.index)\n",
    "df_U = pd.DataFrame(index=df.index)\n",
    "\n",
    "for asset in assets:\n",
    "    df_R[asset]=df[asset+'_R']\n",
    "    df_exR[asset]=df[asset+'_R']-df_rf['Mth_rf']\n",
    "    df_P[asset]=df[asset+'_P']\n",
    "    df_W[asset]=np.NaN\n",
    "    df_U[asset]=np.NaN\n",
    "    \n",
    "# dataframes for transaction records and fee\n",
    "df_trans_rec = pd.DataFrame(columns=assets)\n",
    "df_trans_fee = pd.DataFrame(columns=assets)    \n",
    "    \n",
    "# dataframes for annual return for fiscal year\n",
    "df_RR = pd.DataFrame(columns=['TWRR']+assets)\n",
    "report_dates = pd.date_range(start=incept_date_v, periods=11, freq='4QS')[1:].strftime('%Y-%m-%d').to_list()+[report_date]"
   ]
  },
  {
   "cell_type": "code",
   "execution_count": 139,
   "metadata": {},
   "outputs": [
    {
     "data": {
      "text/html": [
       "<div>\n",
       "<style scoped>\n",
       "    .dataframe tbody tr th:only-of-type {\n",
       "        vertical-align: middle;\n",
       "    }\n",
       "\n",
       "    .dataframe tbody tr th {\n",
       "        vertical-align: top;\n",
       "    }\n",
       "\n",
       "    .dataframe thead th {\n",
       "        text-align: right;\n",
       "    }\n",
       "</style>\n",
       "<table border=\"1\" class=\"dataframe\">\n",
       "  <thead>\n",
       "    <tr style=\"text-align: right;\">\n",
       "      <th></th>\n",
       "      <th>XSP.TO</th>\n",
       "      <th>XIU.TO</th>\n",
       "      <th>XIN.TO</th>\n",
       "      <th>XBB.TO</th>\n",
       "      <th>XGB.TO</th>\n",
       "      <th>XRB.TO</th>\n",
       "      <th>XRE.TO</th>\n",
       "    </tr>\n",
       "    <tr>\n",
       "      <th>formatted_date</th>\n",
       "      <th></th>\n",
       "      <th></th>\n",
       "      <th></th>\n",
       "      <th></th>\n",
       "      <th></th>\n",
       "      <th></th>\n",
       "      <th></th>\n",
       "    </tr>\n",
       "  </thead>\n",
       "  <tbody>\n",
       "    <tr>\n",
       "      <th>2006-04-01</th>\n",
       "      <td>NaN</td>\n",
       "      <td>NaN</td>\n",
       "      <td>NaN</td>\n",
       "      <td>NaN</td>\n",
       "      <td>NaN</td>\n",
       "      <td>NaN</td>\n",
       "      <td>NaN</td>\n",
       "    </tr>\n",
       "    <tr>\n",
       "      <th>2006-05-01</th>\n",
       "      <td>-0.037262</td>\n",
       "      <td>-0.035934</td>\n",
       "      <td>-0.059806</td>\n",
       "      <td>-0.000070</td>\n",
       "      <td>NaN</td>\n",
       "      <td>-0.013703</td>\n",
       "      <td>-0.002474</td>\n",
       "    </tr>\n",
       "    <tr>\n",
       "      <th>2006-06-01</th>\n",
       "      <td>0.002846</td>\n",
       "      <td>-0.014420</td>\n",
       "      <td>0.007787</td>\n",
       "      <td>-0.020828</td>\n",
       "      <td>NaN</td>\n",
       "      <td>-0.021193</td>\n",
       "      <td>-0.009137</td>\n",
       "    </tr>\n",
       "    <tr>\n",
       "      <th>2006-07-01</th>\n",
       "      <td>-0.002867</td>\n",
       "      <td>0.018924</td>\n",
       "      <td>-0.001692</td>\n",
       "      <td>0.028914</td>\n",
       "      <td>NaN</td>\n",
       "      <td>0.040237</td>\n",
       "      <td>0.054973</td>\n",
       "    </tr>\n",
       "    <tr>\n",
       "      <th>2006-08-01</th>\n",
       "      <td>0.017057</td>\n",
       "      <td>0.018122</td>\n",
       "      <td>0.024081</td>\n",
       "      <td>0.014012</td>\n",
       "      <td>NaN</td>\n",
       "      <td>0.015380</td>\n",
       "      <td>0.025324</td>\n",
       "    </tr>\n",
       "    <tr>\n",
       "      <th>...</th>\n",
       "      <td>...</td>\n",
       "      <td>...</td>\n",
       "      <td>...</td>\n",
       "      <td>...</td>\n",
       "      <td>...</td>\n",
       "      <td>...</td>\n",
       "      <td>...</td>\n",
       "    </tr>\n",
       "    <tr>\n",
       "      <th>2021-02-01</th>\n",
       "      <td>0.027248</td>\n",
       "      <td>0.036481</td>\n",
       "      <td>0.027873</td>\n",
       "      <td>-0.027362</td>\n",
       "      <td>-0.031432</td>\n",
       "      <td>-0.042828</td>\n",
       "      <td>0.038720</td>\n",
       "    </tr>\n",
       "    <tr>\n",
       "      <th>2021-03-01</th>\n",
       "      <td>0.044082</td>\n",
       "      <td>0.052970</td>\n",
       "      <td>0.050659</td>\n",
       "      <td>-0.012869</td>\n",
       "      <td>-0.014480</td>\n",
       "      <td>-0.008564</td>\n",
       "      <td>0.047724</td>\n",
       "    </tr>\n",
       "    <tr>\n",
       "      <th>2021-04-01</th>\n",
       "      <td>0.050627</td>\n",
       "      <td>0.023047</td>\n",
       "      <td>0.011021</td>\n",
       "      <td>0.000274</td>\n",
       "      <td>0.001319</td>\n",
       "      <td>-0.020003</td>\n",
       "      <td>0.046757</td>\n",
       "    </tr>\n",
       "    <tr>\n",
       "      <th>2021-05-01</th>\n",
       "      <td>0.004213</td>\n",
       "      <td>0.030843</td>\n",
       "      <td>0.022821</td>\n",
       "      <td>0.005995</td>\n",
       "      <td>0.005625</td>\n",
       "      <td>0.034407</td>\n",
       "      <td>0.026312</td>\n",
       "    </tr>\n",
       "    <tr>\n",
       "      <th>2021-06-01</th>\n",
       "      <td>0.021196</td>\n",
       "      <td>0.033390</td>\n",
       "      <td>0.001299</td>\n",
       "      <td>0.010679</td>\n",
       "      <td>0.011981</td>\n",
       "      <td>0.009638</td>\n",
       "      <td>0.033735</td>\n",
       "    </tr>\n",
       "  </tbody>\n",
       "</table>\n",
       "<p>183 rows × 7 columns</p>\n",
       "</div>"
      ],
      "text/plain": [
       "                  XSP.TO    XIU.TO    XIN.TO    XBB.TO    XGB.TO    XRB.TO  \\\n",
       "formatted_date                                                               \n",
       "2006-04-01           NaN       NaN       NaN       NaN       NaN       NaN   \n",
       "2006-05-01     -0.037262 -0.035934 -0.059806 -0.000070       NaN -0.013703   \n",
       "2006-06-01      0.002846 -0.014420  0.007787 -0.020828       NaN -0.021193   \n",
       "2006-07-01     -0.002867  0.018924 -0.001692  0.028914       NaN  0.040237   \n",
       "2006-08-01      0.017057  0.018122  0.024081  0.014012       NaN  0.015380   \n",
       "...                  ...       ...       ...       ...       ...       ...   \n",
       "2021-02-01      0.027248  0.036481  0.027873 -0.027362 -0.031432 -0.042828   \n",
       "2021-03-01      0.044082  0.052970  0.050659 -0.012869 -0.014480 -0.008564   \n",
       "2021-04-01      0.050627  0.023047  0.011021  0.000274  0.001319 -0.020003   \n",
       "2021-05-01      0.004213  0.030843  0.022821  0.005995  0.005625  0.034407   \n",
       "2021-06-01      0.021196  0.033390  0.001299  0.010679  0.011981  0.009638   \n",
       "\n",
       "                  XRE.TO  \n",
       "formatted_date            \n",
       "2006-04-01           NaN  \n",
       "2006-05-01     -0.002474  \n",
       "2006-06-01     -0.009137  \n",
       "2006-07-01      0.054973  \n",
       "2006-08-01      0.025324  \n",
       "...                  ...  \n",
       "2021-02-01      0.038720  \n",
       "2021-03-01      0.047724  \n",
       "2021-04-01      0.046757  \n",
       "2021-05-01      0.026312  \n",
       "2021-06-01      0.033735  \n",
       "\n",
       "[183 rows x 7 columns]"
      ]
     },
     "execution_count": 139,
     "metadata": {},
     "output_type": "execute_result"
    }
   ],
   "source": [
    "df_exR"
   ]
  },
  {
   "cell_type": "code",
   "execution_count": 133,
   "metadata": {},
   "outputs": [],
   "source": [
    "# Try each strategy\n",
    "\n",
    "# choose validation or testing mode v<->t\n",
    "inc_date = incept_date_t\n",
    "rb_dates = rebal_dates_t\n",
    "\n",
    "# initial Portfolio value\n",
    "inc_value=100000/2#*df_ex.loc[inc_date,'CAD/USD'] # if needed to convert to USD\n",
    "df.loc[inc_date,'Port_P'] = inc_value\n",
    "\n",
    "# injection value (in cad)\n",
    "inject_value = 10000/2\n",
    "\n",
    "# calibration period (max 59 for this example)\n",
    "Back = 59\n",
    "\n",
    "# Transaction fee rate\n",
    "fee_rate = 0.005\n",
    "\n",
    "# initial asset weights\n",
    "'''pick strategy function'''\n",
    "weights = EW(df_exR.loc[:inc_date,:])\n",
    "dict_weights = dict(zip(assets, weights))\n",
    "\n",
    "# initial unit of shares to invest\n",
    "for asset in assets:\n",
    "    df_W.loc[inc_date,asset] = dict_weights[asset]\n",
    "    df_U.loc[inc_date,asset] = dict_weights[asset]*inc_value/df_P.loc[inc_date,asset]\n",
    "    df_trans_rec.loc[inc_date,asset] = df_U.loc[inc_date,asset]\n",
    "\n",
    "# Portfolio evaluation\n",
    "for i in df.index:\n",
    "    if i > inc_date:\n",
    "        \n",
    "        df_U.loc[i]= df_U.shift().loc[i]\n",
    "        df.loc[i,'Port_P'] = df_U.loc[i].dot(df_P.loc[i])\n",
    "        df.loc[i,'Port_R'] = df.loc[i,'Port_P']/df.shift().loc[i,'Port_P']-1\n",
    "        df_W.loc[i] = df_U.loc[i]*df_P.loc[i]/df.loc[i,'Port_P']\n",
    "\n",
    "        if i in rb_dates:\n",
    "            \n",
    "            # new asset weights\n",
    "            '''pick strategy fuction'''\n",
    "            weights = EW(df_exR.loc[back_mth(i, Back):i,:])\n",
    "            dict_weights = dict(zip(assets, weights))\n",
    "\n",
    "            # total transaction cost at rebalance date\n",
    "            trans_cost = 0\n",
    "            \n",
    "            # injection if needed\n",
    "            new_port = df.loc[i,'Port_P']+inject_value#*df_ex.loc[i,'CAD/USD'] # if need to convert to USD\n",
    "            \n",
    "            for asset in assets:\n",
    "                df_W.loc[i,asset] = dict_weights[asset]\n",
    "                new_unit = dict_weights[asset]*new_port/df_P.loc[i,asset]\n",
    "                old_unit = df_U.loc[i,asset]\n",
    "                df_trans_rec.loc[i,asset] = new_unit - old_unit\n",
    "                df_trans_fee.loc[i,asset] = abs(new_unit - old_unit)*df_P.loc[i,asset]*fee_rate\n",
    "                trans_cost = trans_cost + df_trans_fee.loc[i,asset]\n",
    "                \n",
    "            df.loc[i,'Port_P'] = new_port-trans_cost\n",
    "                        \n",
    "            # new unit of shares\n",
    "            for asset in assets:\n",
    "                df_U.loc[i,asset] = dict_weights[asset]*df.loc[i,'Port_P']/df_P.loc[i,asset]\n",
    "                \n",
    "        # record fiscal year end annual return        \n",
    "        if i in report_dates:\n",
    "            \n",
    "            df_RR.loc[i,['TWRR']] = ((df.loc[back_mth(report_dates[report_dates.index(i)-1],-1):i,['Port_R']]+1).prod()-1)[0]\n",
    "            \n",
    "            for asset in assets:\n",
    "                df_RR.loc[i,[asset]] = ((df_R.loc[back_mth(report_dates[report_dates.index(i)-1],-1):i,[asset]]+1).prod()-1)[0]\n",
    "            \n",
    "    "
   ]
  },
  {
   "cell_type": "code",
   "execution_count": null,
   "metadata": {},
   "outputs": [],
   "source": []
  },
  {
   "cell_type": "code",
   "execution_count": 11,
   "metadata": {},
   "outputs": [],
   "source": [
    "df.to_excel(\"cad_EW_t.xlsx\")"
   ]
  },
  {
   "cell_type": "code",
   "execution_count": 46,
   "metadata": {},
   "outputs": [
    {
     "data": {
      "text/plain": [
       "<matplotlib.axes._subplots.AxesSubplot at 0x2e0ee64b6d0>"
      ]
     },
     "execution_count": 46,
     "metadata": {},
     "output_type": "execute_result"
    },
    {
     "data": {
      "image/png": "[encoded data removed]",
      "text/plain": [
       "<Figure size 432x288 with 1 Axes>"
      ]
     },
     "metadata": {
      "needs_background": "light"
     },
     "output_type": "display_data"
    }
   ],
   "source": [
    "df.loc[inc_date:,['Port_P']].plot()"
   ]
  },
  {
   "cell_type": "code",
   "execution_count": 13,
   "metadata": {},
   "outputs": [
    {
     "data": {
      "text/html": [
       "<div>\n",
       "<style scoped>\n",
       "    .dataframe tbody tr th:only-of-type {\n",
       "        vertical-align: middle;\n",
       "    }\n",
       "\n",
       "    .dataframe tbody tr th {\n",
       "        vertical-align: top;\n",
       "    }\n",
       "\n",
       "    .dataframe thead th {\n",
       "        text-align: right;\n",
       "    }\n",
       "</style>\n",
       "<table border=\"1\" class=\"dataframe\">\n",
       "  <thead>\n",
       "    <tr style=\"text-align: right;\">\n",
       "      <th></th>\n",
       "      <th>XSP.TO_P</th>\n",
       "      <th>XSP.TO_R</th>\n",
       "      <th>XIU.TO_P</th>\n",
       "      <th>XIU.TO_R</th>\n",
       "      <th>XIN.TO_P</th>\n",
       "      <th>XIN.TO_R</th>\n",
       "      <th>XBB.TO_P</th>\n",
       "      <th>XBB.TO_R</th>\n",
       "      <th>XGB.TO_P</th>\n",
       "      <th>XGB.TO_R</th>\n",
       "      <th>XRB.TO_P</th>\n",
       "      <th>XRB.TO_R</th>\n",
       "      <th>XRE.TO_P</th>\n",
       "      <th>XRE.TO_R</th>\n",
       "      <th>Port_P</th>\n",
       "      <th>Port_R</th>\n",
       "    </tr>\n",
       "    <tr>\n",
       "      <th>formatted_date</th>\n",
       "      <th></th>\n",
       "      <th></th>\n",
       "      <th></th>\n",
       "      <th></th>\n",
       "      <th></th>\n",
       "      <th></th>\n",
       "      <th></th>\n",
       "      <th></th>\n",
       "      <th></th>\n",
       "      <th></th>\n",
       "      <th></th>\n",
       "      <th></th>\n",
       "      <th></th>\n",
       "      <th></th>\n",
       "      <th></th>\n",
       "      <th></th>\n",
       "    </tr>\n",
       "  </thead>\n",
       "  <tbody>\n",
       "    <tr>\n",
       "      <th>2006-04-01</th>\n",
       "      <td>13.145290</td>\n",
       "      <td>NaN</td>\n",
       "      <td>11.521857</td>\n",
       "      <td>NaN</td>\n",
       "      <td>17.995522</td>\n",
       "      <td>NaN</td>\n",
       "      <td>16.917009</td>\n",
       "      <td>NaN</td>\n",
       "      <td>NaN</td>\n",
       "      <td>NaN</td>\n",
       "      <td>14.437650</td>\n",
       "      <td>NaN</td>\n",
       "      <td>6.142775</td>\n",
       "      <td>NaN</td>\n",
       "      <td>NaN</td>\n",
       "      <td>NaN</td>\n",
       "    </tr>\n",
       "    <tr>\n",
       "      <th>2006-05-01</th>\n",
       "      <td>12.707119</td>\n",
       "      <td>-0.033333</td>\n",
       "      <td>11.153104</td>\n",
       "      <td>-0.032005</td>\n",
       "      <td>16.989994</td>\n",
       "      <td>-0.055877</td>\n",
       "      <td>16.982298</td>\n",
       "      <td>0.003859</td>\n",
       "      <td>NaN</td>\n",
       "      <td>NaN</td>\n",
       "      <td>14.296542</td>\n",
       "      <td>-0.009774</td>\n",
       "      <td>6.151716</td>\n",
       "      <td>0.001456</td>\n",
       "      <td>NaN</td>\n",
       "      <td>NaN</td>\n",
       "    </tr>\n",
       "    <tr>\n",
       "      <th>2006-06-01</th>\n",
       "      <td>12.794751</td>\n",
       "      <td>0.006896</td>\n",
       "      <td>11.037451</td>\n",
       "      <td>-0.010370</td>\n",
       "      <td>17.191097</td>\n",
       "      <td>0.011837</td>\n",
       "      <td>16.697371</td>\n",
       "      <td>-0.016778</td>\n",
       "      <td>NaN</td>\n",
       "      <td>NaN</td>\n",
       "      <td>14.051461</td>\n",
       "      <td>-0.017143</td>\n",
       "      <td>6.120422</td>\n",
       "      <td>-0.005087</td>\n",
       "      <td>NaN</td>\n",
       "      <td>NaN</td>\n",
       "    </tr>\n",
       "    <tr>\n",
       "      <th>2006-07-01</th>\n",
       "      <td>12.810687</td>\n",
       "      <td>0.001246</td>\n",
       "      <td>11.291711</td>\n",
       "      <td>0.023036</td>\n",
       "      <td>17.232704</td>\n",
       "      <td>0.002420</td>\n",
       "      <td>17.248827</td>\n",
       "      <td>0.033027</td>\n",
       "      <td>NaN</td>\n",
       "      <td>NaN</td>\n",
       "      <td>14.674636</td>\n",
       "      <td>0.044349</td>\n",
       "      <td>6.482049</td>\n",
       "      <td>0.059085</td>\n",
       "      <td>NaN</td>\n",
       "      <td>NaN</td>\n",
       "    </tr>\n",
       "    <tr>\n",
       "      <th>2006-08-01</th>\n",
       "      <td>13.081561</td>\n",
       "      <td>0.021144</td>\n",
       "      <td>11.542490</td>\n",
       "      <td>0.022209</td>\n",
       "      <td>17.718132</td>\n",
       "      <td>0.028169</td>\n",
       "      <td>17.561024</td>\n",
       "      <td>0.018100</td>\n",
       "      <td>NaN</td>\n",
       "      <td>NaN</td>\n",
       "      <td>14.960310</td>\n",
       "      <td>0.019467</td>\n",
       "      <td>6.672697</td>\n",
       "      <td>0.029412</td>\n",
       "      <td>NaN</td>\n",
       "      <td>NaN</td>\n",
       "    </tr>\n",
       "    <tr>\n",
       "      <th>...</th>\n",
       "      <td>...</td>\n",
       "      <td>...</td>\n",
       "      <td>...</td>\n",
       "      <td>...</td>\n",
       "      <td>...</td>\n",
       "      <td>...</td>\n",
       "      <td>...</td>\n",
       "      <td>...</td>\n",
       "      <td>...</td>\n",
       "      <td>...</td>\n",
       "      <td>...</td>\n",
       "      <td>...</td>\n",
       "      <td>...</td>\n",
       "      <td>...</td>\n",
       "      <td>...</td>\n",
       "      <td>...</td>\n",
       "    </tr>\n",
       "    <tr>\n",
       "      <th>2021-02-01</th>\n",
       "      <td>40.849056</td>\n",
       "      <td>0.027277</td>\n",
       "      <td>26.603354</td>\n",
       "      <td>0.036510</td>\n",
       "      <td>27.332333</td>\n",
       "      <td>0.027902</td>\n",
       "      <td>31.725668</td>\n",
       "      <td>-0.027332</td>\n",
       "      <td>22.031994</td>\n",
       "      <td>-0.031403</td>\n",
       "      <td>25.542923</td>\n",
       "      <td>-0.042799</td>\n",
       "      <td>16.469028</td>\n",
       "      <td>0.038749</td>\n",
       "      <td>120630.995336</td>\n",
       "      <td>0.006222</td>\n",
       "    </tr>\n",
       "    <tr>\n",
       "      <th>2021-03-01</th>\n",
       "      <td>42.650196</td>\n",
       "      <td>0.044093</td>\n",
       "      <td>28.012825</td>\n",
       "      <td>0.052981</td>\n",
       "      <td>28.717251</td>\n",
       "      <td>0.050670</td>\n",
       "      <td>31.317741</td>\n",
       "      <td>-0.012858</td>\n",
       "      <td>21.713200</td>\n",
       "      <td>-0.014470</td>\n",
       "      <td>25.324438</td>\n",
       "      <td>-0.008554</td>\n",
       "      <td>17.255177</td>\n",
       "      <td>0.047735</td>\n",
       "      <td>123727.171566</td>\n",
       "      <td>0.025667</td>\n",
       "    </tr>\n",
       "    <tr>\n",
       "      <th>2021-04-01</th>\n",
       "      <td>44.809574</td>\n",
       "      <td>0.050630</td>\n",
       "      <td>28.658510</td>\n",
       "      <td>0.023050</td>\n",
       "      <td>29.033804</td>\n",
       "      <td>0.011023</td>\n",
       "      <td>31.326403</td>\n",
       "      <td>0.000277</td>\n",
       "      <td>21.741892</td>\n",
       "      <td>0.001321</td>\n",
       "      <td>24.817949</td>\n",
       "      <td>-0.020000</td>\n",
       "      <td>18.062016</td>\n",
       "      <td>0.046759</td>\n",
       "      <td>130937.071944</td>\n",
       "      <td>0.018547</td>\n",
       "    </tr>\n",
       "    <tr>\n",
       "      <th>2021-05-01</th>\n",
       "      <td>44.998646</td>\n",
       "      <td>0.004219</td>\n",
       "      <td>29.542603</td>\n",
       "      <td>0.030849</td>\n",
       "      <td>29.696587</td>\n",
       "      <td>0.022828</td>\n",
       "      <td>31.514418</td>\n",
       "      <td>0.006002</td>\n",
       "      <td>21.864332</td>\n",
       "      <td>0.005632</td>\n",
       "      <td>25.672029</td>\n",
       "      <td>0.034414</td>\n",
       "      <td>18.537380</td>\n",
       "      <td>0.026318</td>\n",
       "      <td>133373.665904</td>\n",
       "      <td>0.018609</td>\n",
       "    </tr>\n",
       "    <tr>\n",
       "      <th>2021-06-01</th>\n",
       "      <td>45.953945</td>\n",
       "      <td>0.021230</td>\n",
       "      <td>30.530001</td>\n",
       "      <td>0.033423</td>\n",
       "      <td>29.736155</td>\n",
       "      <td>0.001332</td>\n",
       "      <td>31.852020</td>\n",
       "      <td>0.010713</td>\n",
       "      <td>22.127020</td>\n",
       "      <td>0.012014</td>\n",
       "      <td>25.920309</td>\n",
       "      <td>0.009671</td>\n",
       "      <td>19.163364</td>\n",
       "      <td>0.033769</td>\n",
       "      <td>135705.400744</td>\n",
       "      <td>0.017483</td>\n",
       "    </tr>\n",
       "  </tbody>\n",
       "</table>\n",
       "<p>183 rows × 16 columns</p>\n",
       "</div>"
      ],
      "text/plain": [
       "                 XSP.TO_P  XSP.TO_R   XIU.TO_P  XIU.TO_R   XIN.TO_P  XIN.TO_R  \\\n",
       "formatted_date                                                                  \n",
       "2006-04-01      13.145290       NaN  11.521857       NaN  17.995522       NaN   \n",
       "2006-05-01      12.707119 -0.033333  11.153104 -0.032005  16.989994 -0.055877   \n",
       "2006-06-01      12.794751  0.006896  11.037451 -0.010370  17.191097  0.011837   \n",
       "2006-07-01      12.810687  0.001246  11.291711  0.023036  17.232704  0.002420   \n",
       "2006-08-01      13.081561  0.021144  11.542490  0.022209  17.718132  0.028169   \n",
       "...                   ...       ...        ...       ...        ...       ...   \n",
       "2021-02-01      40.849056  0.027277  26.603354  0.036510  27.332333  0.027902   \n",
       "2021-03-01      42.650196  0.044093  28.012825  0.052981  28.717251  0.050670   \n",
       "2021-04-01      44.809574  0.050630  28.658510  0.023050  29.033804  0.011023   \n",
       "2021-05-01      44.998646  0.004219  29.542603  0.030849  29.696587  0.022828   \n",
       "2021-06-01      45.953945  0.021230  30.530001  0.033423  29.736155  0.001332   \n",
       "\n",
       "                 XBB.TO_P  XBB.TO_R   XGB.TO_P  XGB.TO_R   XRB.TO_P  XRB.TO_R  \\\n",
       "formatted_date                                                                  \n",
       "2006-04-01      16.917009       NaN        NaN       NaN  14.437650       NaN   \n",
       "2006-05-01      16.982298  0.003859        NaN       NaN  14.296542 -0.009774   \n",
       "2006-06-01      16.697371 -0.016778        NaN       NaN  14.051461 -0.017143   \n",
       "2006-07-01      17.248827  0.033027        NaN       NaN  14.674636  0.044349   \n",
       "2006-08-01      17.561024  0.018100        NaN       NaN  14.960310  0.019467   \n",
       "...                   ...       ...        ...       ...        ...       ...   \n",
       "2021-02-01      31.725668 -0.027332  22.031994 -0.031403  25.542923 -0.042799   \n",
       "2021-03-01      31.317741 -0.012858  21.713200 -0.014470  25.324438 -0.008554   \n",
       "2021-04-01      31.326403  0.000277  21.741892  0.001321  24.817949 -0.020000   \n",
       "2021-05-01      31.514418  0.006002  21.864332  0.005632  25.672029  0.034414   \n",
       "2021-06-01      31.852020  0.010713  22.127020  0.012014  25.920309  0.009671   \n",
       "\n",
       "                 XRE.TO_P  XRE.TO_R         Port_P    Port_R  \n",
       "formatted_date                                                \n",
       "2006-04-01       6.142775       NaN            NaN       NaN  \n",
       "2006-05-01       6.151716  0.001456            NaN       NaN  \n",
       "2006-06-01       6.120422 -0.005087            NaN       NaN  \n",
       "2006-07-01       6.482049  0.059085            NaN       NaN  \n",
       "2006-08-01       6.672697  0.029412            NaN       NaN  \n",
       "...                   ...       ...            ...       ...  \n",
       "2021-02-01      16.469028  0.038749  120630.995336  0.006222  \n",
       "2021-03-01      17.255177  0.047735  123727.171566  0.025667  \n",
       "2021-04-01      18.062016  0.046759  130937.071944  0.018547  \n",
       "2021-05-01      18.537380  0.026318  133373.665904  0.018609  \n",
       "2021-06-01      19.163364  0.033769  135705.400744  0.017483  \n",
       "\n",
       "[183 rows x 16 columns]"
      ]
     },
     "execution_count": 13,
     "metadata": {},
     "output_type": "execute_result"
    }
   ],
   "source": [
    "df"
   ]
  },
  {
   "cell_type": "code",
   "execution_count": 120,
   "metadata": {},
   "outputs": [],
   "source": [
    "port_now=df.loc[report_date,'Port_P']"
   ]
  },
  {
   "cell_type": "code",
   "execution_count": 136,
   "metadata": {},
   "outputs": [
    {
     "data": {
      "text/plain": [
       "<matplotlib.axes._subplots.AxesSubplot at 0x2e0ef2e9790>"
      ]
     },
     "execution_count": 136,
     "metadata": {},
     "output_type": "execute_result"
    },
    {
     "data": {
      "image/png": "[encoded data removed]",
      "text/plain": [
       "<Figure size 432x288 with 1 Axes>"
      ]
     },
     "metadata": {
      "needs_background": "light"
     },
     "output_type": "display_data"
    }
   ],
   "source": [
    "df_RR.plot.bar()"
   ]
  },
  {
   "cell_type": "code",
   "execution_count": 138,
   "metadata": {},
   "outputs": [
    {
     "data": {
      "text/plain": [
       "<matplotlib.axes._subplots.AxesSubplot at 0x2e0eeeeb490>"
      ]
     },
     "execution_count": 138,
     "metadata": {},
     "output_type": "execute_result"
    },
    {
     "data": {
      "image/png": "[encoded data removed]",
      "text/plain": [
       "<Figure size 432x288 with 1 Axes>"
      ]
     },
     "metadata": {
      "needs_background": "light"
     },
     "output_type": "display_data"
    }
   ],
   "source": [
    "((df_RR+1).prod()-1).plot.bar() "
   ]
  },
  {
   "cell_type": "code",
   "execution_count": 40,
   "metadata": {},
   "outputs": [
    {
     "data": {
      "text/html": [
       "<div>\n",
       "<style scoped>\n",
       "    .dataframe tbody tr th:only-of-type {\n",
       "        vertical-align: middle;\n",
       "    }\n",
       "\n",
       "    .dataframe tbody tr th {\n",
       "        vertical-align: top;\n",
       "    }\n",
       "\n",
       "    .dataframe thead th {\n",
       "        text-align: right;\n",
       "    }\n",
       "</style>\n",
       "<table border=\"1\" class=\"dataframe\">\n",
       "  <thead>\n",
       "    <tr style=\"text-align: right;\">\n",
       "      <th></th>\n",
       "      <th>mean</th>\n",
       "      <th>std</th>\n",
       "      <th>annual mean</th>\n",
       "      <th>annual std</th>\n",
       "      <th>sharpe</th>\n",
       "    </tr>\n",
       "  </thead>\n",
       "  <tbody>\n",
       "    <tr>\n",
       "      <th>XSP.TO</th>\n",
       "      <td>0.013101</td>\n",
       "      <td>0.043820</td>\n",
       "      <td>0.157210</td>\n",
       "      <td>0.151796</td>\n",
       "      <td>1.035670</td>\n",
       "    </tr>\n",
       "    <tr>\n",
       "      <th>XIU.TO</th>\n",
       "      <td>0.009567</td>\n",
       "      <td>0.036640</td>\n",
       "      <td>0.114804</td>\n",
       "      <td>0.126924</td>\n",
       "      <td>0.904510</td>\n",
       "    </tr>\n",
       "    <tr>\n",
       "      <th>XIN.TO</th>\n",
       "      <td>0.008178</td>\n",
       "      <td>0.038789</td>\n",
       "      <td>0.098138</td>\n",
       "      <td>0.134368</td>\n",
       "      <td>0.730371</td>\n",
       "    </tr>\n",
       "    <tr>\n",
       "      <th>XBB.TO</th>\n",
       "      <td>0.002518</td>\n",
       "      <td>0.013835</td>\n",
       "      <td>0.030213</td>\n",
       "      <td>0.047924</td>\n",
       "      <td>0.630427</td>\n",
       "    </tr>\n",
       "    <tr>\n",
       "      <th>XGB.TO</th>\n",
       "      <td>0.002078</td>\n",
       "      <td>0.012963</td>\n",
       "      <td>0.024931</td>\n",
       "      <td>0.044903</td>\n",
       "      <td>0.555222</td>\n",
       "    </tr>\n",
       "    <tr>\n",
       "      <th>XRB.TO</th>\n",
       "      <td>0.002197</td>\n",
       "      <td>0.022604</td>\n",
       "      <td>0.026362</td>\n",
       "      <td>0.078301</td>\n",
       "      <td>0.336681</td>\n",
       "    </tr>\n",
       "    <tr>\n",
       "      <th>XRE.TO</th>\n",
       "      <td>0.008172</td>\n",
       "      <td>0.049279</td>\n",
       "      <td>0.098066</td>\n",
       "      <td>0.170709</td>\n",
       "      <td>0.574462</td>\n",
       "    </tr>\n",
       "  </tbody>\n",
       "</table>\n",
       "</div>"
      ],
      "text/plain": [
       "            mean       std  annual mean  annual std    sharpe\n",
       "XSP.TO  0.013101  0.043820     0.157210    0.151796  1.035670\n",
       "XIU.TO  0.009567  0.036640     0.114804    0.126924  0.904510\n",
       "XIN.TO  0.008178  0.038789     0.098138    0.134368  0.730371\n",
       "XBB.TO  0.002518  0.013835     0.030213    0.047924  0.630427\n",
       "XGB.TO  0.002078  0.012963     0.024931    0.044903  0.555222\n",
       "XRB.TO  0.002197  0.022604     0.026362    0.078301  0.336681\n",
       "XRE.TO  0.008172  0.049279     0.098066    0.170709  0.574462"
      ]
     },
     "execution_count": 40,
     "metadata": {},
     "output_type": "execute_result"
    }
   ],
   "source": [
    "# calculate sharpe of each asset\n",
    "stats=pd.DataFrame()\n",
    "stats[\"mean\"]=df_R.loc[back_mth(inc_date,-1):,:].mean()\n",
    "stats[\"std\"]=df_R.loc[back_mth(inc_date,-1):,:].std()\n",
    "stats['annual mean']=stats[\"mean\"]*12\n",
    "stats['annual std']=stats[\"std\"]*np.sqrt(12)\n",
    "stats['sharpe'] = stats['annual mean']/stats['annual std']\n",
    "stats"
   ]
  },
  {
   "cell_type": "code",
   "execution_count": 41,
   "metadata": {},
   "outputs": [
    {
     "data": {
      "text/html": [
       "<div>\n",
       "<style scoped>\n",
       "    .dataframe tbody tr th:only-of-type {\n",
       "        vertical-align: middle;\n",
       "    }\n",
       "\n",
       "    .dataframe tbody tr th {\n",
       "        vertical-align: top;\n",
       "    }\n",
       "\n",
       "    .dataframe thead th {\n",
       "        text-align: right;\n",
       "    }\n",
       "</style>\n",
       "<table border=\"1\" class=\"dataframe\">\n",
       "  <thead>\n",
       "    <tr style=\"text-align: right;\">\n",
       "      <th></th>\n",
       "      <th>mean</th>\n",
       "      <th>std</th>\n",
       "      <th>annual mean</th>\n",
       "      <th>annual std</th>\n",
       "      <th>sharpe</th>\n",
       "    </tr>\n",
       "  </thead>\n",
       "  <tbody>\n",
       "    <tr>\n",
       "      <th>Port_R</th>\n",
       "      <td>0.006599</td>\n",
       "      <td>0.024732</td>\n",
       "      <td>0.079192</td>\n",
       "      <td>0.085674</td>\n",
       "      <td>0.924345</td>\n",
       "    </tr>\n",
       "  </tbody>\n",
       "</table>\n",
       "</div>"
      ],
      "text/plain": [
       "            mean       std  annual mean  annual std    sharpe\n",
       "Port_R  0.006599  0.024732     0.079192    0.085674  0.924345"
      ]
     },
     "execution_count": 41,
     "metadata": {},
     "output_type": "execute_result"
    }
   ],
   "source": [
    "# calculate sharpe of portfolio\n",
    "stats=pd.DataFrame()\n",
    "stats[\"mean\"]=df.loc[back_mth(inc_date,-1):,['Port_R']].mean()\n",
    "stats[\"std\"]=df.loc[back_mth(inc_date,-1):,['Port_R']].std()\n",
    "stats['annual mean']=stats[\"mean\"]*12\n",
    "stats['annual std']=stats[\"std\"]*np.sqrt(12)\n",
    "stats['sharpe'] = stats['annual mean']/stats['annual std']\n",
    "stats"
   ]
  },
  {
   "cell_type": "code",
   "execution_count": null,
   "metadata": {},
   "outputs": [],
   "source": []
  },
  {
   "cell_type": "code",
   "execution_count": null,
   "metadata": {},
   "outputs": [],
   "source": []
  },
  {
   "cell_type": "code",
   "execution_count": 16,
   "metadata": {},
   "outputs": [],
   "source": [
    "# risk management"
   ]
  },
  {
   "cell_type": "code",
   "execution_count": 18,
   "metadata": {},
   "outputs": [
    {
     "data": {
      "text/plain": [
       "XSP.TO    19183.001913\n",
       "XIU.TO    19926.810408\n",
       "XIN.TO    19157.791855\n",
       "XBB.TO    19019.147310\n",
       "XGB.TO    19036.634851\n",
       "XRB.TO    19536.144890\n",
       "XRE.TO    19845.869518\n",
       "Name: 2021-06-01, dtype: float64"
      ]
     },
     "execution_count": 18,
     "metadata": {},
     "output_type": "execute_result"
    }
   ],
   "source": [
    "position_now = df_U.loc[report_date]*df_P.loc[report_date]\n",
    "position_now"
   ]
  },
  {
   "cell_type": "code",
   "execution_count": 19,
   "metadata": {},
   "outputs": [
    {
     "data": {
      "text/plain": [
       "135705.40074448736"
      ]
     },
     "execution_count": 19,
     "metadata": {},
     "output_type": "execute_result"
    }
   ],
   "source": [
    "position_now.sum()"
   ]
  },
  {
   "cell_type": "code",
   "execution_count": 20,
   "metadata": {},
   "outputs": [
    {
     "data": {
      "text/html": [
       "<div>\n",
       "<style scoped>\n",
       "    .dataframe tbody tr th:only-of-type {\n",
       "        vertical-align: middle;\n",
       "    }\n",
       "\n",
       "    .dataframe tbody tr th {\n",
       "        vertical-align: top;\n",
       "    }\n",
       "\n",
       "    .dataframe thead th {\n",
       "        text-align: right;\n",
       "    }\n",
       "</style>\n",
       "<table border=\"1\" class=\"dataframe\">\n",
       "  <thead>\n",
       "    <tr style=\"text-align: right;\">\n",
       "      <th></th>\n",
       "      <th>XSP.TO</th>\n",
       "      <th>XIU.TO</th>\n",
       "      <th>XIN.TO</th>\n",
       "      <th>XBB.TO</th>\n",
       "      <th>XGB.TO</th>\n",
       "      <th>XRB.TO</th>\n",
       "      <th>XRE.TO</th>\n",
       "    </tr>\n",
       "  </thead>\n",
       "  <tbody>\n",
       "    <tr>\n",
       "      <th>0.01</th>\n",
       "      <td>-0.113811</td>\n",
       "      <td>-0.133683</td>\n",
       "      <td>-0.118551</td>\n",
       "      <td>-0.027895</td>\n",
       "      <td>-0.027628</td>\n",
       "      <td>-0.078873</td>\n",
       "      <td>-0.124519</td>\n",
       "    </tr>\n",
       "  </tbody>\n",
       "</table>\n",
       "</div>"
      ],
      "text/plain": [
       "        XSP.TO    XIU.TO    XIN.TO    XBB.TO    XGB.TO    XRB.TO    XRE.TO\n",
       "0.01 -0.113811 -0.133683 -0.118551 -0.027895 -0.027628 -0.078873 -0.124519"
      ]
     },
     "execution_count": 20,
     "metadata": {},
     "output_type": "execute_result"
    }
   ],
   "source": [
    "# VaR (hist method) of each asset\n",
    "df_R.quantile([.01])"
   ]
  },
  {
   "cell_type": "code",
   "execution_count": 21,
   "metadata": {},
   "outputs": [
    {
     "data": {
      "text/html": [
       "<div>\n",
       "<style scoped>\n",
       "    .dataframe tbody tr th:only-of-type {\n",
       "        vertical-align: middle;\n",
       "    }\n",
       "\n",
       "    .dataframe tbody tr th {\n",
       "        vertical-align: top;\n",
       "    }\n",
       "\n",
       "    .dataframe thead th {\n",
       "        text-align: right;\n",
       "    }\n",
       "</style>\n",
       "<table border=\"1\" class=\"dataframe\">\n",
       "  <thead>\n",
       "    <tr style=\"text-align: right;\">\n",
       "      <th></th>\n",
       "      <th>XSP.TO</th>\n",
       "      <th>XIU.TO</th>\n",
       "      <th>XIN.TO</th>\n",
       "      <th>XBB.TO</th>\n",
       "      <th>XGB.TO</th>\n",
       "      <th>XRB.TO</th>\n",
       "      <th>XRE.TO</th>\n",
       "    </tr>\n",
       "  </thead>\n",
       "  <tbody>\n",
       "    <tr>\n",
       "      <th>0.01</th>\n",
       "      <td>-2183.243262</td>\n",
       "      <td>-2663.878162</td>\n",
       "      <td>-2271.167</td>\n",
       "      <td>-530.537391</td>\n",
       "      <td>-525.948217</td>\n",
       "      <td>-1540.87456</td>\n",
       "      <td>-2471.197548</td>\n",
       "    </tr>\n",
       "  </tbody>\n",
       "</table>\n",
       "</div>"
      ],
      "text/plain": [
       "           XSP.TO       XIU.TO    XIN.TO      XBB.TO      XGB.TO      XRB.TO  \\\n",
       "0.01 -2183.243262 -2663.878162 -2271.167 -530.537391 -525.948217 -1540.87456   \n",
       "\n",
       "           XRE.TO  \n",
       "0.01 -2471.197548  "
      ]
     },
     "execution_count": 21,
     "metadata": {},
     "output_type": "execute_result"
    }
   ],
   "source": [
    "df_R.quantile([.01])*(position_now)"
   ]
  },
  {
   "cell_type": "code",
   "execution_count": 22,
   "metadata": {},
   "outputs": [
    {
     "data": {
      "text/plain": [
       "formatted_date\n",
       "2020-03-01   -0.115447\n",
       "2018-10-01   -0.035181\n",
       "2018-12-01   -0.033980\n",
       "2020-02-01   -0.032362\n",
       "2020-10-01   -0.020224\n",
       "                ...   \n",
       "2015-12-01         NaN\n",
       "2016-01-01         NaN\n",
       "2016-02-01         NaN\n",
       "2016-03-01         NaN\n",
       "2016-04-01         NaN\n",
       "Name: Port_R, Length: 183, dtype: float64"
      ]
     },
     "execution_count": 22,
     "metadata": {},
     "output_type": "execute_result"
    }
   ],
   "source": [
    "# VaR (hist method) of portfolio\n",
    "df.loc[:,'Port_R'].sort_values()"
   ]
  },
  {
   "cell_type": "code",
   "execution_count": 23,
   "metadata": {},
   "outputs": [
    {
     "data": {
      "text/html": [
       "<div>\n",
       "<style scoped>\n",
       "    .dataframe tbody tr th:only-of-type {\n",
       "        vertical-align: middle;\n",
       "    }\n",
       "\n",
       "    .dataframe tbody tr th {\n",
       "        vertical-align: top;\n",
       "    }\n",
       "\n",
       "    .dataframe thead th {\n",
       "        text-align: right;\n",
       "    }\n",
       "</style>\n",
       "<table border=\"1\" class=\"dataframe\">\n",
       "  <thead>\n",
       "    <tr style=\"text-align: right;\">\n",
       "      <th></th>\n",
       "      <th>Port_R</th>\n",
       "    </tr>\n",
       "  </thead>\n",
       "  <tbody>\n",
       "    <tr>\n",
       "      <th>0.01</th>\n",
       "      <td>-0.066485</td>\n",
       "    </tr>\n",
       "  </tbody>\n",
       "</table>\n",
       "</div>"
      ],
      "text/plain": [
       "        Port_R\n",
       "0.01 -0.066485"
      ]
     },
     "execution_count": 23,
     "metadata": {},
     "output_type": "execute_result"
    }
   ],
   "source": [
    "df[['Port_R']].quantile([.01])"
   ]
  },
  {
   "cell_type": "code",
   "execution_count": 24,
   "metadata": {},
   "outputs": [
    {
     "data": {
      "text/plain": [
       "0.01   -9022.339545\n",
       "Name: Port_R, dtype: float64"
      ]
     },
     "execution_count": 24,
     "metadata": {},
     "output_type": "execute_result"
    }
   ],
   "source": [
    "port_now*df['Port_R'].quantile([.01])"
   ]
  },
  {
   "cell_type": "code",
   "execution_count": null,
   "metadata": {},
   "outputs": [],
   "source": []
  },
  {
   "cell_type": "code",
   "execution_count": null,
   "metadata": {},
   "outputs": [],
   "source": [
    "# VaR (parametric method) of each asset"
   ]
  },
  {
   "cell_type": "code",
   "execution_count": 25,
   "metadata": {},
   "outputs": [
    {
     "data": {
      "text/plain": [
       "XSP.TO   -0.096821\n",
       "XIU.TO   -0.084201\n",
       "XIN.TO   -0.097575\n",
       "XBB.TO   -0.025489\n",
       "XGB.TO   -0.025609\n",
       "XRB.TO   -0.055120\n",
       "XRE.TO   -0.098998\n",
       "dtype: float64"
      ]
     },
     "execution_count": 25,
     "metadata": {},
     "output_type": "execute_result"
    }
   ],
   "source": [
    "VaRi_p = df_R.mean()+st.norm.ppf(.01)*df_R.std()\n",
    "VaRi_p"
   ]
  },
  {
   "cell_type": "code",
   "execution_count": 26,
   "metadata": {},
   "outputs": [
    {
     "data": {
      "text/plain": [
       "XSP.TO   -1857.326126\n",
       "XIU.TO   -1677.859237\n",
       "XIN.TO   -1869.319812\n",
       "XBB.TO    -484.771683\n",
       "XGB.TO    -487.500539\n",
       "XRB.TO   -1076.823010\n",
       "XRE.TO   -1964.705806\n",
       "dtype: float64"
      ]
     },
     "execution_count": 26,
     "metadata": {},
     "output_type": "execute_result"
    }
   ],
   "source": [
    "VaRi_p*position_now"
   ]
  },
  {
   "cell_type": "code",
   "execution_count": 27,
   "metadata": {},
   "outputs": [],
   "source": [
    "# VaR (parametric method) of portfolio"
   ]
  },
  {
   "cell_type": "code",
   "execution_count": 28,
   "metadata": {},
   "outputs": [
    {
     "data": {
      "text/plain": [
       "-0.050935514894079374"
      ]
     },
     "execution_count": 28,
     "metadata": {},
     "output_type": "execute_result"
    }
   ],
   "source": [
    "VaRp_p = df['Port_R'].mean()+st.norm.ppf(.01)*df['Port_R'].std()\n",
    "VaRp_p"
   ]
  },
  {
   "cell_type": "code",
   "execution_count": 29,
   "metadata": {},
   "outputs": [
    {
     "data": {
      "text/plain": [
       "-6912.224460827846"
      ]
     },
     "execution_count": 29,
     "metadata": {},
     "output_type": "execute_result"
    }
   ],
   "source": [
    "VaRp_p*port_now"
   ]
  },
  {
   "cell_type": "code",
   "execution_count": 30,
   "metadata": {},
   "outputs": [],
   "source": [
    "# Marginal VaR"
   ]
  },
  {
   "cell_type": "code",
   "execution_count": 31,
   "metadata": {},
   "outputs": [
    {
     "data": {
      "text/plain": [
       "XSP.TO    0.141358\n",
       "XIU.TO    0.146839\n",
       "XIN.TO    0.141172\n",
       "XBB.TO    0.140150\n",
       "XGB.TO    0.140279\n",
       "XRB.TO    0.143960\n",
       "XRE.TO    0.146242\n",
       "Name: 2021-06-01, dtype: float64"
      ]
     },
     "execution_count": 31,
     "metadata": {},
     "output_type": "execute_result"
    }
   ],
   "source": [
    "df_W.loc[report_date]"
   ]
  },
  {
   "cell_type": "code",
   "execution_count": 32,
   "metadata": {},
   "outputs": [
    {
     "data": {
      "text/html": [
       "<div>\n",
       "<style scoped>\n",
       "    .dataframe tbody tr th:only-of-type {\n",
       "        vertical-align: middle;\n",
       "    }\n",
       "\n",
       "    .dataframe tbody tr th {\n",
       "        vertical-align: top;\n",
       "    }\n",
       "\n",
       "    .dataframe thead th {\n",
       "        text-align: right;\n",
       "    }\n",
       "</style>\n",
       "<table border=\"1\" class=\"dataframe\">\n",
       "  <thead>\n",
       "    <tr style=\"text-align: right;\">\n",
       "      <th></th>\n",
       "      <th>XSP.TO</th>\n",
       "      <th>XIU.TO</th>\n",
       "      <th>XIN.TO</th>\n",
       "      <th>XBB.TO</th>\n",
       "      <th>XGB.TO</th>\n",
       "      <th>XRB.TO</th>\n",
       "      <th>XRE.TO</th>\n",
       "    </tr>\n",
       "  </thead>\n",
       "  <tbody>\n",
       "    <tr>\n",
       "      <th>XSP.TO</th>\n",
       "      <td>0.002028</td>\n",
       "      <td>0.001407</td>\n",
       "      <td>0.001760</td>\n",
       "      <td>0.000034</td>\n",
       "      <td>-0.000045</td>\n",
       "      <td>0.000254</td>\n",
       "      <td>0.001224</td>\n",
       "    </tr>\n",
       "    <tr>\n",
       "      <th>XIU.TO</th>\n",
       "      <td>0.001407</td>\n",
       "      <td>0.001508</td>\n",
       "      <td>0.001320</td>\n",
       "      <td>0.000060</td>\n",
       "      <td>-0.000026</td>\n",
       "      <td>0.000312</td>\n",
       "      <td>0.001161</td>\n",
       "    </tr>\n",
       "    <tr>\n",
       "      <th>XIN.TO</th>\n",
       "      <td>0.001760</td>\n",
       "      <td>0.001320</td>\n",
       "      <td>0.001896</td>\n",
       "      <td>0.000028</td>\n",
       "      <td>-0.000043</td>\n",
       "      <td>0.000232</td>\n",
       "      <td>0.001165</td>\n",
       "    </tr>\n",
       "    <tr>\n",
       "      <th>XBB.TO</th>\n",
       "      <td>0.000034</td>\n",
       "      <td>0.000060</td>\n",
       "      <td>0.000028</td>\n",
       "      <td>0.000156</td>\n",
       "      <td>0.000144</td>\n",
       "      <td>0.000220</td>\n",
       "      <td>0.000211</td>\n",
       "    </tr>\n",
       "    <tr>\n",
       "      <th>XGB.TO</th>\n",
       "      <td>-0.000045</td>\n",
       "      <td>-0.000026</td>\n",
       "      <td>-0.000043</td>\n",
       "      <td>0.000144</td>\n",
       "      <td>0.000153</td>\n",
       "      <td>0.000202</td>\n",
       "      <td>0.000119</td>\n",
       "    </tr>\n",
       "    <tr>\n",
       "      <th>XRB.TO</th>\n",
       "      <td>0.000254</td>\n",
       "      <td>0.000312</td>\n",
       "      <td>0.000232</td>\n",
       "      <td>0.000220</td>\n",
       "      <td>0.000202</td>\n",
       "      <td>0.000636</td>\n",
       "      <td>0.000465</td>\n",
       "    </tr>\n",
       "    <tr>\n",
       "      <th>XRE.TO</th>\n",
       "      <td>0.001224</td>\n",
       "      <td>0.001161</td>\n",
       "      <td>0.001165</td>\n",
       "      <td>0.000211</td>\n",
       "      <td>0.000119</td>\n",
       "      <td>0.000465</td>\n",
       "      <td>0.002090</td>\n",
       "    </tr>\n",
       "  </tbody>\n",
       "</table>\n",
       "</div>"
      ],
      "text/plain": [
       "          XSP.TO    XIU.TO    XIN.TO    XBB.TO    XGB.TO    XRB.TO    XRE.TO\n",
       "XSP.TO  0.002028  0.001407  0.001760  0.000034 -0.000045  0.000254  0.001224\n",
       "XIU.TO  0.001407  0.001508  0.001320  0.000060 -0.000026  0.000312  0.001161\n",
       "XIN.TO  0.001760  0.001320  0.001896  0.000028 -0.000043  0.000232  0.001165\n",
       "XBB.TO  0.000034  0.000060  0.000028  0.000156  0.000144  0.000220  0.000211\n",
       "XGB.TO -0.000045 -0.000026 -0.000043  0.000144  0.000153  0.000202  0.000119\n",
       "XRB.TO  0.000254  0.000312  0.000232  0.000220  0.000202  0.000636  0.000465\n",
       "XRE.TO  0.001224  0.001161  0.001165  0.000211  0.000119  0.000465  0.002090"
      ]
     },
     "execution_count": 32,
     "metadata": {},
     "output_type": "execute_result"
    }
   ],
   "source": [
    "df_R.cov()"
   ]
  },
  {
   "cell_type": "code",
   "execution_count": 33,
   "metadata": {},
   "outputs": [
    {
     "data": {
      "text/plain": [
       "XSP.TO    0.000956\n",
       "XIU.TO    0.000826\n",
       "XIN.TO    0.000912\n",
       "XBB.TO    0.000122\n",
       "XGB.TO    0.000072\n",
       "XRB.TO    0.000333\n",
       "XRE.TO    0.000927\n",
       "dtype: float64"
      ]
     },
     "execution_count": 33,
     "metadata": {},
     "output_type": "execute_result"
    }
   ],
   "source": [
    "df_R.cov().dot(df_W.loc[report_date])"
   ]
  },
  {
   "cell_type": "code",
   "execution_count": 34,
   "metadata": {},
   "outputs": [
    {
     "data": {
      "text/plain": [
       "0.0005958863653908229"
      ]
     },
     "execution_count": 34,
     "metadata": {},
     "output_type": "execute_result"
    }
   ],
   "source": [
    "df_W.loc[report_date].dot(df_R.cov().dot(df_W.loc[report_date]))"
   ]
  },
  {
   "cell_type": "code",
   "execution_count": 35,
   "metadata": {},
   "outputs": [
    {
     "data": {
      "text/plain": [
       "XSP.TO    0.226737\n",
       "XIU.TO    0.203606\n",
       "XIN.TO    0.216044\n",
       "XBB.TO    0.028737\n",
       "XGB.TO    0.016923\n",
       "XRB.TO    0.080490\n",
       "XRE.TO    0.227463\n",
       "dtype: float64"
      ]
     },
     "execution_count": 35,
     "metadata": {},
     "output_type": "execute_result"
    }
   ],
   "source": [
    "MVaR=(df_R.cov().dot(df_W.loc[report_date]))/(df_W.loc[report_date].dot(df_R.cov().dot(df_W.loc[report_date])))*df_W.loc[report_date]\n",
    "MVaR"
   ]
  },
  {
   "cell_type": "code",
   "execution_count": 36,
   "metadata": {},
   "outputs": [
    {
     "data": {
      "text/plain": [
       "XSP.TO   -0.011549\n",
       "XIU.TO   -0.010371\n",
       "XIN.TO   -0.011004\n",
       "XBB.TO   -0.001464\n",
       "XGB.TO   -0.000862\n",
       "XRB.TO   -0.004100\n",
       "XRE.TO   -0.011586\n",
       "dtype: float64"
      ]
     },
     "execution_count": 36,
     "metadata": {},
     "output_type": "execute_result"
    }
   ],
   "source": [
    "MVaR*VaRp_p"
   ]
  },
  {
   "cell_type": "code",
   "execution_count": 37,
   "metadata": {},
   "outputs": [
    {
     "data": {
      "text/plain": [
       "XSP.TO   -1567.253960\n",
       "XIU.TO   -1407.372175\n",
       "XIN.TO   -1493.346224\n",
       "XBB.TO    -198.637095\n",
       "XGB.TO    -116.974855\n",
       "XRB.TO    -556.365991\n",
       "XRE.TO   -1572.274160\n",
       "dtype: float64"
      ]
     },
     "execution_count": 37,
     "metadata": {},
     "output_type": "execute_result"
    }
   ],
   "source": [
    "MVaR*VaRp_p*port_now"
   ]
  },
  {
   "cell_type": "code",
   "execution_count": 38,
   "metadata": {},
   "outputs": [
    {
     "data": {
      "text/plain": [
       "-6912.224460827847"
      ]
     },
     "execution_count": 38,
     "metadata": {},
     "output_type": "execute_result"
    }
   ],
   "source": [
    "sum(MVaR*VaRp_p*port_now)"
   ]
  },
  {
   "cell_type": "code",
   "execution_count": null,
   "metadata": {},
   "outputs": [],
   "source": []
  },
  {
   "cell_type": "code",
   "execution_count": null,
   "metadata": {},
   "outputs": [],
   "source": []
  },
  {
   "cell_type": "code",
   "execution_count": null,
   "metadata": {},
   "outputs": [],
   "source": []
  },
  {
   "cell_type": "code",
   "execution_count": null,
   "metadata": {},
   "outputs": [],
   "source": []
  }
 ],
 "metadata": {
  "kernelspec": {
   "display_name": "Python 3",
   "language": "python",
   "name": "python3"
  },
  "language_info": {
   "codemirror_mode": {
    "name": "ipython",
    "version": 3
   },
   "file_extension": ".py",
   "mimetype": "text/x-python",
   "name": "python",
   "nbconvert_exporter": "python",
   "pygments_lexer": "ipython3",
   "version": "3.8.3"
  }
 },
 "nbformat": 4,
 "nbformat_minor": 4
}
