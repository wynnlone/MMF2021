{
 "cells": [
  {
   "cell_type": "code",
   "execution_count": 33,
   "metadata": {},
   "outputs": [],
   "source": [
    "import numpy as np\n",
    "import pandas as pd\n",
    "from scipy.optimize import minimize\n",
    "import random\n",
    "#import gurobipy as gp\n",
    "#from gurobipy import GRB\n",
    "import scipy.optimize"
   ]
  },
  {
   "cell_type": "code",
   "execution_count": 34,
   "metadata": {
    "scrolled": true
   },
   "outputs": [],
   "source": [
    "#numAsset = 3\n",
    "#df1 = pd.DataFrame([0.1,0.2,0.3])\n",
    "#Q = np.mat(np.random.normal(0,1,(3,3)))\n",
    "#Q = Q*np.transpose(Q)/1000+0.5*np.identity(numAsset)/1000\n",
    "#print(Q)\n",
    "\n",
    "#Q = df.cov()"
   ]
  },
  {
   "cell_type": "code",
   "execution_count": 35,
   "metadata": {},
   "outputs": [
    {
     "name": "stdout",
     "output_type": "stream",
     "text": [
      "['XSP.TO', 'XIU.TO', 'XIN.TO', 'XBB.TO', 'XGB.TO', 'XRB.TO', 'XRE.TO']\n"
     ]
    }
   ],
   "source": [
    "df_exR = pd.read_csv(\"exR_file.csv\")\n",
    "df_exR\n",
    "ticker = list(df_exR)[1:] #the first is the time stamp\n",
    "print(ticker)"
   ]
  },
  {
   "cell_type": "code",
   "execution_count": 36,
   "metadata": {
    "scrolled": true
   },
   "outputs": [
    {
     "name": "stdout",
     "output_type": "stream",
     "text": [
      "       XSP.TO\n",
      "0         NaN\n",
      "1   -0.037262\n",
      "2    0.002846\n",
      "3   -0.002867\n",
      "4    0.017057\n",
      "..        ...\n",
      "178  0.027248\n",
      "179  0.044082\n",
      "180  0.050627\n",
      "181  0.004213\n",
      "182  0.021196\n",
      "\n",
      "[183 rows x 1 columns]\n",
      "       XIU.TO\n",
      "0         NaN\n",
      "1   -0.035934\n",
      "2   -0.014420\n",
      "3    0.018924\n",
      "4    0.018122\n",
      "..        ...\n",
      "178  0.036481\n",
      "179  0.052970\n",
      "180  0.023047\n",
      "181  0.030843\n",
      "182  0.033390\n",
      "\n",
      "[183 rows x 1 columns]\n"
     ]
    },
    {
     "data": {
      "text/plain": [
       "list"
      ]
     },
     "execution_count": 36,
     "metadata": {},
     "output_type": "execute_result"
    }
   ],
   "source": [
    "df1= df_exR.iloc[:,1:2]\n",
    "df2 = df_exR.iloc[:,2:3]\n",
    "df3 = df_exR.iloc[:,3:6]\n",
    "df4 = df_exR.iloc[:,6:8]\n",
    "asset_1_index = [0]\n",
    "asset_2_index = list(range(1,2))\n",
    "asset_3_index = list(range(2,5))\n",
    "asset_4_index = list(range(5,7))\n",
    "print(df1)\n",
    "print(df2)\n",
    "asset_2_index\n",
    "asset_3_index\n",
    "asset_4_index\n",
    "#np.array(ticker)[asset_4_index]\n",
    "type(asset_2_index)"
   ]
  },
  {
   "cell_type": "code",
   "execution_count": 37,
   "metadata": {},
   "outputs": [
    {
     "name": "stdout",
     "output_type": "stream",
     "text": [
      "       XSP.TO    XIU.TO    XIN.TO    XBB.TO    XGB.TO    XRB.TO    XRE.TO\n",
      "0         NaN       NaN       NaN       NaN       NaN       NaN       NaN\n",
      "1   -0.037262 -0.035934 -0.059806 -0.000070       NaN -0.013703 -0.002474\n",
      "2    0.002846 -0.014420  0.007787 -0.020828       NaN -0.021193 -0.009137\n",
      "3   -0.002867  0.018924 -0.001692  0.028914       NaN  0.040237  0.054973\n",
      "4    0.017057  0.018122  0.024081  0.014012       NaN  0.015380  0.025324\n",
      "..        ...       ...       ...       ...       ...       ...       ...\n",
      "178  0.027248  0.036481  0.027873 -0.027362 -0.031432 -0.042828  0.038720\n",
      "179  0.044082  0.052970  0.050659 -0.012869 -0.014480 -0.008564  0.047724\n",
      "180  0.050627  0.023047  0.011021  0.000274  0.001319 -0.020003  0.046757\n",
      "181  0.004213  0.030843  0.022821  0.005995  0.005625  0.034407  0.026312\n",
      "182  0.021196  0.033390  0.001299  0.010679  0.011981  0.009638  0.033735\n",
      "\n",
      "[183 rows x 7 columns]\n",
      "(183, 7)\n",
      "7\n",
      "number of asset is  7\n"
     ]
    },
    {
     "data": {
      "text/plain": [
       "(7, 7)"
      ]
     },
     "execution_count": 37,
     "metadata": {},
     "output_type": "execute_result"
    }
   ],
   "source": [
    "\n",
    "total_df = pd.concat([df1,df2,df3,df4], axis=1)# merge the 4 asset class\n",
    "print(total_df)\n",
    "print(total_df.shape)\n",
    "\n",
    "print(total_df.shape[1]) # get the amount of columns of the dataframe\n",
    "numAsset = total_df.shape[1]\n",
    "print(\"number of asset is \", numAsset)\n",
    "Q = total_df.cov()\n",
    "Q.shape"
   ]
  },
  {
   "cell_type": "code",
   "execution_count": 38,
   "metadata": {},
   "outputs": [],
   "source": [
    "def formDf(x,ticker):\n",
    "    x = pd.DataFrame(x).T\n",
    "    x.columns = ticker\n",
    "    return x"
   ]
  },
  {
   "cell_type": "code",
   "execution_count": 39,
   "metadata": {},
   "outputs": [
    {
     "name": "stdout",
     "output_type": "stream",
     "text": [
      "          0\n",
      "0  0.142857\n",
      "1  0.142857\n",
      "2  0.142857\n",
      "3  0.142857\n",
      "4  0.142857\n",
      "5  0.142857\n",
      "6  0.142857\n",
      "     XSP.TO    XIU.TO    XIN.TO    XBB.TO    XGB.TO    XRB.TO    XRE.TO\n",
      "0  0.142857  0.142857  0.142857  0.142857  0.142857  0.142857  0.142857\n"
     ]
    }
   ],
   "source": [
    "#Equal Weight strategy\n",
    "weight_eq = pd.DataFrame(np.repeat(1/numAsset, numAsset))\n",
    "print(weight_eq)\n",
    "\n",
    "x_ew = formDf(weight_eq,ticker) # result for equal weight\n",
    "print(x_ew)"
   ]
  },
  {
   "cell_type": "code",
   "execution_count": 65,
   "metadata": {},
   "outputs": [
    {
     "name": "stdout",
     "output_type": "stream",
     "text": [
      "[ 26.74905139  30.19912567  28.12403987  97.04215235 119.80732964\n",
      "  45.69873152  24.07522027]\n",
      "<class 'numpy.ndarray'>\n",
      "     XSP.TO    XIU.TO    XIN.TO   XBB.TO    XGB.TO    XRB.TO    XRE.TO\n",
      "0  0.071965  0.081247  0.075664  0.26108  0.322326  0.122947  0.064771\n"
     ]
    }
   ],
   "source": [
    "def rp_obj(y):\n",
    "    kappa = 5\n",
    "    return np.matmul(Q,y)-kappa*np.reciprocal(y) #using the gradient of f(y) = 0\n",
    "def rp_opt(numAsset):\n",
    "    guess = pd.DataFrame(np.repeat(1/numAsset, numAsset))\n",
    "    y = scipy.optimize.fsolve(rp_obj,guess)\n",
    "    \n",
    "    x_rp=[]\n",
    "    y_sum = np.sum(y)\n",
    "    for i in range(len(y)):\n",
    "        x_rp.append(y[i]/y_sum)\n",
    "    x_rp = formDf(x_rp,ticker)\n",
    "    \n",
    "    \n",
    "    return x_rp\n",
    "x_rp = rp_opt(numAsset)\n",
    "print(y)\n",
    "print(type(y))\n",
    "print(x_rp)\n",
    "\n"
   ]
  },
  {
   "cell_type": "code",
   "execution_count": 50,
   "metadata": {},
   "outputs": [],
   "source": [
    "# Mean Variance optimization\n",
    "def meanVarianceOpt(numAsset):\n",
    "    def objective(weight):#weight\n",
    "        #print(type(weight))\n",
    "        #print(weight.shape())\n",
    "        weight = np.array(weight)\n",
    "        return weight.dot(Q).dot(weight.T)\n",
    "\n",
    "    #constraints\n",
    "    cons = ({'type':\"eq\",'fun':lambda x: np.sum(x)-1},\n",
    "           )\n",
    "    \n",
    "    #long only\n",
    "    bounds = tuple((0,1) for x in range(numAsset))\n",
    "    \n",
    "    #initialize the weights with an even split, equal weights\n",
    "    guess = pd.DataFrame(np.repeat(1/numAsset, numAsset))\n",
    "    optimized_result = minimize(objective, guess, method = \"SLSQP\", bounds  = bounds, constraints= cons)\n",
    "    \n",
    "    return optimized_result"
   ]
  },
  {
   "cell_type": "code",
   "execution_count": 47,
   "metadata": {},
   "outputs": [
    {
     "data": {
      "text/plain": [
       "(1, 3, 4)"
      ]
     },
     "execution_count": 47,
     "metadata": {},
     "output_type": "execute_result"
    }
   ],
   "source": [
    "np.ndarray([1,3,4]).shape"
   ]
  },
  {
   "cell_type": "code",
   "execution_count": 55,
   "metadata": {},
   "outputs": [
    {
     "name": "stdout",
     "output_type": "stream",
     "text": [
      "1.0\n"
     ]
    }
   ],
   "source": [
    "x_mvo = meanVarianceOpt(numAsset).x\n",
    "x_mvo = formDf(x_mvo,ticker)"
   ]
  },
  {
   "cell_type": "code",
   "execution_count": null,
   "metadata": {},
   "outputs": [],
   "source": [
    "# Mean Variance optimization - All weather \n",
    "\n",
    "def meanVarianceOpt_allWeather(numAsset):\n",
    "    def objective(weight):#weight\n",
    "        weight = np.array(weight)\n",
    "        return weight.dot(Q).dot(weight.T)\n",
    "\n",
    "    #constraints\n",
    "    cons = ({'type':\"eq\",'fun':lambda x: np.sum(x)-1},\n",
    "            {\"type\":\"ineq\",'fun': lambda x: np.sum(np.array(x)[asset_1_index])-0.15 },\n",
    "            {\"type\":\"ineq\",'fun': lambda x: np.sum(np.array(x)[asset_2_index])-0.15 },\n",
    "            {\"type\":\"ineq\",'fun': lambda x: np.sum(np.array(x)[asset_3_index])-0.15 },\n",
    "            {\"type\":\"ineq\",'fun': lambda x: np.sum(np.array(x)[asset_4_index])-0.15 },\n",
    "            {\"type\":\"ineq\",'fun': lambda x: 0.3-np.sum(np.array(x)[asset_1_index]) },\n",
    "            {\"type\":\"ineq\",'fun': lambda x: 0.3-np.sum(np.array(x)[asset_2_index]) },\n",
    "            {\"type\":\"ineq\",'fun': lambda x: 0.3-np.sum(np.array(x)[asset_3_index]) },\n",
    "            {\"type\":\"ineq\",'fun': lambda x: 0.3-np.sum(np.array(x)[asset_4_index]) },\n",
    "           )\n",
    "    \n",
    "    #long only\n",
    "    bounds = tuple((0,0.3) for x in range(numAsset))\n",
    "    \n",
    "    #initialize the weights with an even split, equal weights\n",
    "    guess = pd.DataFrame(np.repeat(1/numAsset, numAsset))\n",
    "    optimized_result = minimize(objective, guess, method = \"SLSQP\", bounds  = bounds, constraints= cons)\n",
    "    \n",
    "    return optimized_result"
   ]
  },
  {
   "cell_type": "code",
   "execution_count": 27,
   "metadata": {},
   "outputs": [
    {
     "ename": "NameError",
     "evalue": "name 'meanVarianceOpt_allWeather' is not defined",
     "output_type": "error",
     "traceback": [
      "\u001b[1;31m---------------------------------------------------------------------------\u001b[0m",
      "\u001b[1;31mNameError\u001b[0m                                 Traceback (most recent call last)",
      "\u001b[1;32m<ipython-input-27-32a55a3e3fb5>\u001b[0m in \u001b[0;36m<module>\u001b[1;34m\u001b[0m\n\u001b[1;32m----> 1\u001b[1;33m \u001b[0mx_mvo_allWeather\u001b[0m \u001b[1;33m=\u001b[0m \u001b[0mmeanVarianceOpt_allWeather\u001b[0m\u001b[1;33m(\u001b[0m\u001b[0mnumAsset\u001b[0m\u001b[1;33m)\u001b[0m\u001b[1;33m.\u001b[0m\u001b[0mx\u001b[0m\u001b[1;33m\u001b[0m\u001b[1;33m\u001b[0m\u001b[0m\n\u001b[0m\u001b[0;32m      2\u001b[0m \u001b[0mtype\u001b[0m\u001b[1;33m(\u001b[0m\u001b[0mx_mvo_allWeather\u001b[0m\u001b[1;33m)\u001b[0m\u001b[1;33m\u001b[0m\u001b[1;33m\u001b[0m\u001b[0m\n\u001b[0;32m      3\u001b[0m \u001b[0mx_mvo_allWeather\u001b[0m \u001b[1;33m=\u001b[0m \u001b[0mformDf\u001b[0m\u001b[1;33m(\u001b[0m\u001b[0mx_mvo_allWeather\u001b[0m\u001b[1;33m,\u001b[0m \u001b[0mticker\u001b[0m\u001b[1;33m)\u001b[0m\u001b[1;33m\u001b[0m\u001b[1;33m\u001b[0m\u001b[0m\n",
      "\u001b[1;31mNameError\u001b[0m: name 'meanVarianceOpt_allWeather' is not defined"
     ]
    }
   ],
   "source": [
    "x_mvo_allWeather = meanVarianceOpt_allWeather(numAsset).x\n",
    "type(x_mvo_allWeather)\n",
    "x_mvo_allWeather = formDf(x_mvo_allWeather, ticker)"
   ]
  },
  {
   "cell_type": "code",
   "execution_count": null,
   "metadata": {},
   "outputs": [],
   "source": [
    "x_mvo_allWeather"
   ]
  },
  {
   "cell_type": "code",
   "execution_count": null,
   "metadata": {},
   "outputs": [],
   "source": [
    "np.sum(np.array([1,2,3,4])[[0,2]])"
   ]
  },
  {
   "cell_type": "code",
   "execution_count": null,
   "metadata": {},
   "outputs": [],
   "source": [
    "# Naive Risk Parity\n",
    "\n",
    "Q"
   ]
  },
  {
   "cell_type": "code",
   "execution_count": null,
   "metadata": {},
   "outputs": [],
   "source": [
    "sigma_sq = np.diagonal(Q)# variance for all assets (sigma^2 )\n",
    "print(sigma_sq)"
   ]
  },
  {
   "cell_type": "code",
   "execution_count": null,
   "metadata": {},
   "outputs": [],
   "source": [
    "#1/sigma^2\n",
    "inv_sigma_sq = pd.DataFrame(sigma_sq).rdiv(1).T \n",
    "print(inv_sigma_sq)\n",
    "\n",
    "# 1/sigma\n",
    "inv_sigma = inv_sigma_sq.apply(np.sqrt)\n",
    "inv_sigma= np.array(inv_sigma.iloc[0,:].tolist())\n",
    "print(inv_sigma)\n",
    "#"
   ]
  },
  {
   "cell_type": "code",
   "execution_count": null,
   "metadata": {},
   "outputs": [],
   "source": [
    "x_naive_rp = []\n",
    "denom = np.sum(inv_sigma) #sum of 1/sigma at the denominator\n",
    "\n",
    "for i in range(numAsset):\n",
    "    x_naive_rp.append((inv_sigma[i]/denom))\n",
    "print(x_naive_rp)\n",
    "\n",
    "x_naive_rp = formDf(x_naive_rp, ticker)"
   ]
  },
  {
   "cell_type": "code",
   "execution_count": null,
   "metadata": {},
   "outputs": [],
   "source": [
    "x_naive_rp"
   ]
  },
  {
   "cell_type": "code",
   "execution_count": null,
   "metadata": {},
   "outputs": [],
   "source": []
  }
 ],
 "metadata": {
  "kernelspec": {
   "display_name": "Python 3",
   "language": "python",
   "name": "python3"
  },
  "language_info": {
   "codemirror_mode": {
    "name": "ipython",
    "version": 3
   },
   "file_extension": ".py",
   "mimetype": "text/x-python",
   "name": "python",
   "nbconvert_exporter": "python",
   "pygments_lexer": "ipython3",
   "version": "3.8.8"
  }
 },
 "nbformat": 4,
 "nbformat_minor": 4
}
